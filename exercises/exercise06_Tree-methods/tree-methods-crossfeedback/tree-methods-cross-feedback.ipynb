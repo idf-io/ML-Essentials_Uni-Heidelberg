{
 "cells": [
  {
   "cell_type": "code",
   "execution_count": 1,
   "metadata": {},
   "outputs": [],
   "source": [
    "# import modules\n",
    "import numpy as np\n",
    "from sklearn.datasets import load_digits\n",
    "from abc import abstractmethod"
   ]
  },
  {
   "cell_type": "markdown",
   "metadata": {},
   "source": [
    "# Base Classes"
   ]
  },
  {
   "cell_type": "markdown",
   "metadata": {},
   "source": [
    " <div style=\"color: green; font-weight:\n",
    "bold\">Your code is basiclly identical as the sample.But when you find thresholds for every node, you forget to remove thresholds with less than n_min instances in one node.</div> "
   ]
  },
  {
   "cell_type": "code",
   "execution_count": 2,
   "metadata": {},
   "outputs": [],
   "source": [
    "import numpy as np\n",
    "\n",
    "class Node:\n",
    "    '''\n",
    "      this class will later get the following attributes\n",
    "      all nodes:\n",
    "          features\n",
    "          responses\n",
    "      split nodes additionally:\n",
    "          left\n",
    "          right\n",
    "          split_index\n",
    "          threshold\n",
    "      leaf nodes additionally\n",
    "          prediction\n",
    "    '''\n",
    "\n",
    "class Tree:\n",
    "    '''\n",
    "      base class for RegressionTree and ClassificationTree\n",
    "    '''\n",
    "    def __init__(self, n_min=10):\n",
    "        '''n_min: minimum required number of instances in leaf nodes\n",
    "        '''\n",
    "        self.n_min = n_min \n",
    "    \n",
    "    def predict(self, x):\n",
    "        ''' return the prediction for the given 1-D feature vector x\n",
    "        '''\n",
    "        # first find the leaf containing the 1-D feature vector x\n",
    "        node = self.root\n",
    "        while not hasattr(node, \"prediction\"):\n",
    "            j = node.split_index\n",
    "            if np.all(x[j] <= node.threshold):\n",
    "                node = node.left\n",
    "            else:\n",
    "                node = node.right\n",
    "        # finally, return the leaf's prediction\n",
    "        return node.prediction\n",
    "        \n",
    "    def train(self, features, responses, D_try=None):\n",
    "        '''\n",
    "        features: the feature matrix of the training set\n",
    "        response: the vector of responses\n",
    "        '''\n",
    "        N, D = features.shape\n",
    "        assert(responses.shape[0] == N)\n",
    "\n",
    "        if D_try is None:\n",
    "            D_try = int(np.sqrt(D)) # number of features to consider for each split decision\n",
    "        \n",
    "        # initialize the root node\n",
    "        self.root = Node()\n",
    "        self.root.features  = features\n",
    "        self.root.responses = responses\n",
    "\n",
    "        # build the tree\n",
    "        stack = [self.root]\n",
    "        while len(stack):\n",
    "            node = stack.pop()\n",
    "            active_indices = self.select_active_indices(D, D_try)\n",
    "            left, right = self.make_split_node(node, active_indices)\n",
    "            if left is None: # no split found\n",
    "                self.make_leaf_node(node)\n",
    "            else:\n",
    "                stack.append(left)\n",
    "                stack.append(right)\n",
    "    \n",
    "    def make_split_node(self, node, indices):\n",
    "        '''\n",
    "        node: the node to be split\n",
    "        indices: a numpy array of length 'D_try', containing the feature \n",
    "                         indices to be considered for the present split\n",
    "                         \n",
    "        return: None, None -- if no suitable split has been found, or\n",
    "                left, right -- the children of the split\n",
    "        '''\n",
    "        # all responses equal => no improvement possible by any split\n",
    "        if np.unique(node.responses).shape[0] == 1:\n",
    "            return None, None\n",
    "        \n",
    "        # find best feature j_min (among 'indices') and best threshold t_min for the split\n",
    "        l_min = float('inf')  # upper bound for the loss, later the loss of the best split\n",
    "        j_min, t_min = None, None\n",
    "\n",
    "        for j in indices:\n",
    "            thresholds = self.find_thresholds(node, j)\n",
    "\n",
    "            # compute loss for each threshold\n",
    "            for t in thresholds:\n",
    "                loss = self.compute_loss_for_split(node, j, t)\n",
    "\n",
    "                # remember the best split so far \n",
    "                # (the condition is never True when loss = float('inf') )\n",
    "                if loss < l_min:\n",
    "                    l_min = loss\n",
    "                    j_min = j\n",
    "                    t_min = t\n",
    "\n",
    "        if j_min is None: # no split found\n",
    "            return None, None\n",
    "\n",
    "        # create children for the best split\n",
    "        left, right = self.make_children(node, j_min, t_min)\n",
    "\n",
    "        # turn the current 'node' into a split node\n",
    "        node.split_index = j_min\n",
    "        node.threshold = t_min\n",
    "        node.left = left\n",
    "        node.right = right\n",
    "        \n",
    "        # return the children (to be placed on the stack)\n",
    "        return left, right\n",
    "    \n",
    "    def select_active_indices(self, D, D_try):\n",
    "        ''' return a 1-D array with D_try randomly selected indices from 0...(D-1).\n",
    "        '''\n",
    "        return np.random.choice(D, size=D_try, replace=False)\n",
    "        \n",
    "    def find_thresholds(self, node, j):\n",
    "        ''' return: a 1-D array with all possible thresholds along feature j\n",
    "        '''\n",
    "        feature_values = np.sort(node.features[:, j])\n",
    "        thresholds = (feature_values[:-1] + feature_values[1:]) / 2\n",
    "        return thresholds\n",
    "        \n",
    "    def make_children(self, node, j, t):\n",
    "        ''' execute the split in feature j at threshold t\n",
    "        \n",
    "            return: left, right -- the children of the split, with features and responses\n",
    "                                   properly assigned according to the split\n",
    "        '''\n",
    "        left = Node()\n",
    "        right = Node()\n",
    "\n",
    "        feature_values = node.features[:, j]\n",
    "        left_mask = feature_values <= t\n",
    "        right_mask = feature_values > t\n",
    "\n",
    "        left.features = node.features[left_mask]\n",
    "        left.responses = node.responses[left_mask]\n",
    "\n",
    "        right.features = node.features[right_mask]\n",
    "        right.responses = node.responses[right_mask]\n",
    "        \n",
    "        return left, right\n",
    "        \n",
    "    def make_leaf_node(self, node):\n",
    "        ''' Turn node into a leaf by computing and setting `node.prediction`\n",
    "        \n",
    "            (must be implemented in a subclass)\n",
    "        '''\n",
    "        raise NotImplementedError(\"make_leaf_node() must be implemented in a subclass.\")\n",
    "        \n",
    "    def compute_loss_for_split(self, node, j, t):\n",
    "        ''' Return the resulting loss when the data are split along feature j at threshold t.\n",
    "            If the split is not admissible, return float('inf').\n",
    "        \n",
    "            (must be implemented in a subclass)\n",
    "        '''\n",
    "        raise NotImplementedError(\"compute_loss_for_split() must be implemented in a subclass.\")\n"
   ]
  },
  {
   "cell_type": "markdown",
   "metadata": {},
   "source": [
    "# Regression Tree"
   ]
  },
  {
   "cell_type": "markdown",
   "metadata": {},
   "source": [
    "<div style=\"color: green; font-weight:\n",
    "bold\">Your regression tree implement the same as the sample. It is very great!</div> "
   ]
  },
  {
   "cell_type": "code",
   "execution_count": 3,
   "metadata": {},
   "outputs": [],
   "source": [
    "class RegressionTree(Tree):\n",
    "    def __init__(self, n_min=10):\n",
    "        super(RegressionTree, self).__init__(n_min)\n",
    "        \n",
    "    def compute_loss_for_split(self, node, j, t):\n",
    "        # return the loss if we would split the instance along feature j at threshold t\n",
    "        # or float('inf') if there is no feasible split\n",
    "        \n",
    "        left_mask = node.features[:, j] <= t\n",
    "        right_mask = ~left_mask\n",
    "\n",
    "        if np.sum(left_mask) < self.n_min or np.sum(right_mask) < self.n_min:\n",
    "            return float('inf')\n",
    "\n",
    "        left_responses = node.responses[left_mask]\n",
    "        right_responses = node.responses[right_mask]\n",
    "\n",
    "        left_loss = np.sum((left_responses - np.mean(left_responses))**2)\n",
    "        right_loss = np.sum((right_responses - np.mean(right_responses))**2)\n",
    "\n",
    "        loss = left_loss + right_loss\n",
    "        return loss\n",
    "\n",
    "        \n",
    "        #raise NotImplementedError(\"compute_loss_for_split(): remove this exception after adding your code above.\")\n",
    "        \n",
    "    def make_leaf_node(self, node):\n",
    "        # Turn node into a leaf node by computing `node.prediction`\n",
    "        # (note: the prediction of a regression tree is a real number)\n",
    "        node.prediction = np.mean(node.responses)\n",
    "        \n",
    "        #raise NotImplementedError(\"make_leaf_node(): remove this exception after adding your code above.\")\n"
   ]
  },
  {
   "cell_type": "markdown",
   "metadata": {},
   "source": [
    "# Classification Tree"
   ]
  },
  {
   "cell_type": "markdown",
   "metadata": {},
   "source": [
    "<div style=\"color: green; font-weight:\n",
    "bold\">Basiclly your code implement the same as the sample. But one detail is that for the prediction you should use mean for numpy array instead of the unique method.</div> "
   ]
  },
  {
   "cell_type": "code",
   "execution_count": 8,
   "metadata": {
    "tags": []
   },
   "outputs": [],
   "source": [
    "class ClassificationTree(Tree):\n",
    "    def __init__(self, classes, n_min=10):\n",
    "        super(ClassificationTree, self).__init__(n_min)\n",
    "        self.classes = classes\n",
    "        \n",
    "    def compute_loss_for_split(self, node, j, t):\n",
    "        # Return the loss of a proposed split or float('inf') if the split is not permitted\n",
    "        \n",
    "        eps = 1e-8\n",
    "        left_mask = node.features[:, j] <= t\n",
    "        right_mask = ~left_mask\n",
    "\n",
    "        if np.sum(left_mask) < self.n_min or np.sum(right_mask) < self.n_min:\n",
    "            return float('inf')\n",
    "\n",
    "        left_labels = node.responses[left_mask]\n",
    "        right_labels = node.responses[right_mask]\n",
    "\n",
    "        left_counts = np.bincount(left_labels, minlength=len(self.classes))\n",
    "        right_counts = np.bincount(right_labels, minlength=len(self.classes))\n",
    "\n",
    "        left_probabilities = left_counts / np.sum(left_counts)\n",
    "        right_probabilities = right_counts / np.sum(right_counts)\n",
    "\n",
    "        #entropy\n",
    "        left_loss = -np.sum(left_probabilities * np.log2(left_probabilities + eps))\n",
    "        right_loss = -np.sum(right_probabilities * np.log2(right_probabilities + eps))\n",
    "        #gini\n",
    "        #left_loss = 1 - np.sum(left_probabilities**2)\n",
    "        #right_loss = 1 - np.sum(right_probabilities**2)\n",
    "\n",
    "        loss = (np.sum(left_counts) * left_loss + np.sum(right_counts) * right_loss) \n",
    "        return loss\n",
    "        \n",
    "        #raise NotImplementedError(\"compute_loss_for_split(): remove this exception after adding your code above.\")\n",
    "        \n",
    "    def make_leaf_node(self, node):\n",
    "        # Turn node into a leaf node by computing `node.prediction`\n",
    "        # (note: the prediction of a classification tree is a class label)\n",
    "        unique_labels, label_counts = np.unique(node.responses, return_counts=True)\n",
    "        class_index = np.argmax(label_counts)\n",
    "        node.prediction = unique_labels[class_index]\n",
    "        \n",
    "        #raise NotImplementedError(\"make_leaf_node(): remove this exception after adding your code above.\")\n"
   ]
  },
  {
   "cell_type": "markdown",
   "metadata": {},
   "source": [
    "# Evaluation of Regression and Classification Tree"
   ]
  },
  {
   "cell_type": "markdown",
   "metadata": {},
   "source": [
    "<div style=\"color: green; font-weight:\n",
    "bold\">You implement the cross-validation, it is great. But we have implemented the square error and gini/entropy error in the tree. So When we got the final result, there is no need to calculate the mean square error again.You can just use the mean function of numpy.</div> "
   ]
  },
  {
   "cell_type": "code",
   "execution_count": 5,
   "metadata": {
    "tags": []
   },
   "outputs": [
    {
     "name": "stdout",
     "output_type": "stream",
     "text": [
      "(1797, 64) (1797,)\n"
     ]
    }
   ],
   "source": [
    "# read and prepare the digits data and extract 3s and 9s\n",
    "digits = load_digits()\n",
    "print(digits.data.shape, digits.target.shape)\n",
    "\n",
    "instances = (digits.target == 3) | (digits.target == 9)\n",
    "features = digits.data[instances, :]\n",
    "labels = digits.target[instances]\n",
    "\n",
    "# for regression, we use labels +1 and -1\n",
    "responses = np.array([1 if l == 3 else -1 for l in labels])\n",
    "\n",
    "assert(features.shape[0] == labels.shape[0] == responses.shape[0])"
   ]
  },
  {
   "cell_type": "code",
   "execution_count": 6,
   "metadata": {
    "tags": []
   },
   "outputs": [
    {
     "name": "stdout",
     "output_type": "stream",
     "text": [
      "Mean Squared Error: 0.6911075377432839\n",
      "Mean Squared Error: 0.7962773172481145\n",
      "Mean Squared Error: 0.25727988418888076\n",
      "Mean Squared Error: 0.25122030515136945\n",
      "Mean Squared Error: 0.3389978215055214\n",
      "Average Mean Squared Error: 0.4669765731674341\n"
     ]
    }
   ],
   "source": [
    "# perform 5-fold cross-validation (see ex01) with responses +1 and -1 (for 3s and 9s)\n",
    "# using RegressionTree()\n",
    "# and comment on your results\n",
    "... # your code here\n",
    "from sklearn.model_selection import KFold\n",
    "from sklearn.metrics import mean_squared_error\n",
    "kf = KFold(n_splits=5)\n",
    "\n",
    "# Lists to store the performance metrics\n",
    "mse_scores = []\n",
    "\n",
    "for train_indices, test_indices in kf.split(features):\n",
    "    # Split the data into train and test sets\n",
    "    X_train, X_test = features[train_indices], features[test_indices]\n",
    "    y_train, y_test = responses[train_indices], responses[test_indices]\n",
    "\n",
    "    # Create a RegressionTree instance\n",
    "    tree = RegressionTree()\n",
    "\n",
    "    # Train the tree on the training data\n",
    "    tree.train(X_train, y_train)\n",
    "\n",
    "    # Make predictions on the test data\n",
    "    y_pred = [tree.predict(x) for x in X_test]\n",
    "\n",
    "    # Calculate mean squared error\n",
    "    mse = mean_squared_error(y_test, y_pred)\n",
    "    print(\"Mean Squared Error:\",mse)\n",
    "    mse_scores.append(mse)\n",
    "\n",
    "# Calculate the average mean squared error across all folds\n",
    "avg_mse = sum(mse_scores) / len(mse_scores)\n",
    "\n",
    "print(\"Average Mean Squared Error:\", avg_mse)"
   ]
  },
  {
   "cell_type": "markdown",
   "metadata": {},
   "source": [
    "The RegressionTree model shows a high Average Mean Squared Error of 0.47, indicating that it is unable to effectively learn the underlying patterns in the data. The model's predictions deviate significantly from the actual values, resulting in a relatively large mean squared error. This suggests that the model is not suitable for the given problem and may require alternative approaches or more complex models to achieve better performance."
   ]
  },
  {
   "cell_type": "code",
   "execution_count": 9,
   "metadata": {},
   "outputs": [
    {
     "name": "stdout",
     "output_type": "stream",
     "text": [
      "Accuracy Score: 0.9315068493150684\n",
      "Accuracy Score: 0.8493150684931506\n",
      "Accuracy Score: 0.8356164383561644\n",
      "Accuracy Score: 0.9166666666666666\n",
      "Accuracy Score: 0.8472222222222222\n",
      "Average Accuracy Score: 0.8760654490106544\n"
     ]
    }
   ],
   "source": [
    "# perform 5-fold cross-validation with labels 3 and 9\n",
    "# using ClassificationTree(classes=np.unique(labels))\n",
    "# and comment on your results\n",
    "from sklearn.model_selection import KFold\n",
    "from sklearn.metrics import accuracy_score\n",
    "# Perform 5-fold cross-validation\n",
    "kf = KFold(n_splits=5)\n",
    "\n",
    "# Lists to store the performance metrics\n",
    "accuracy_scores = []\n",
    "\n",
    "for train_indices, test_indices in kf.split(features):\n",
    "    # Split the data into train and test sets\n",
    "    X_train, X_test = features[train_indices], features[test_indices]\n",
    "    y_train, y_test = labels[train_indices], labels[test_indices]\n",
    "\n",
    "    # Create a ClassificationTree instance\n",
    "    tree = ClassificationTree(classes=np.unique(labels))\n",
    "\n",
    "    # Train the tree on the training data\n",
    "    tree.train(X_train, y_train)\n",
    "\n",
    "    # Make predictions on the test data\n",
    "    y_pred = [tree.predict(x) for x in X_test]\n",
    "\n",
    "    # Calculate accuracy score\n",
    "    accuracy = accuracy_score(y_test, y_pred)\n",
    "    print(\"Accuracy Score:\", accuracy)\n",
    "    accuracy_scores.append(accuracy)\n",
    "\n",
    "# Calculate the average accuracy score across all folds\n",
    "avg_accuracy = sum(accuracy_scores) / len(accuracy_scores)\n",
    "\n",
    "print(\"Average Accuracy Score:\", avg_accuracy)"
   ]
  },
  {
   "cell_type": "markdown",
   "metadata": {},
   "source": [
    "The Classification Tree model achieves an Average Accuracy Score of 0.876, indicating its effectiveness in classifying instances. With an accuracy rate of approximately 87.6%, the model demonstrates its ability to predict the correct class labels. This suggests that the model captures and utilizes the underlying patterns in the data successfully, making accurate predictions for the classification task."
   ]
  },
  {
   "cell_type": "markdown",
   "metadata": {},
   "source": [
    "# Regression and Classification Forest"
   ]
  },
  {
   "cell_type": "markdown",
   "metadata": {},
   "source": [
    "<div style=\"color: green; font-weight:\n",
    "bold\">Your code is great to implement the same function using different method.</div> "
   ]
  },
  {
   "cell_type": "code",
   "execution_count": 12,
   "metadata": {},
   "outputs": [],
   "source": [
    "def bootstrap_sampling(features, responses):\n",
    "    '''return a bootstrap sample of features and responses\n",
    "    '''\n",
    "    N = features.shape[0]\n",
    "    indices = np.random.choice(N, size=N, replace=True)\n",
    "    bootstrap_features = features[indices]\n",
    "    bootstrap_responses = responses[indices]\n",
    "    return bootstrap_features, bootstrap_responses\n",
    "    #raise NotImplementedError(\"bootstrap_sampling(): remove this exception after adding your code above.\")"
   ]
  },
  {
   "cell_type": "code",
   "execution_count": 13,
   "metadata": {
    "tags": []
   },
   "outputs": [],
   "source": [
    "class RegressionForest():\n",
    "    def __init__(self, n_trees, n_min=10):\n",
    "        # create ensemble\n",
    "        self.trees = [RegressionTree(n_min) for i in range(n_trees)]\n",
    "    \n",
    "    def train(self, features, responses):\n",
    "        for tree in self.trees:\n",
    "            boostrap_features, bootstrap_responses = bootstrap_sampling(features, responses)\n",
    "            tree.train(boostrap_features, bootstrap_responses)\n",
    "\n",
    "    def predict(self, x):\n",
    "        # compute the response of the ensemble from the individual responses and return it\n",
    "        predictions = [tree.predict(x) for tree in self.trees]\n",
    "        return np.mean(predictions)\n",
    "        #raise NotImplementedError(\"predict(): remove this exception after adding your code above.\")"
   ]
  },
  {
   "cell_type": "code",
   "execution_count": 16,
   "metadata": {
    "tags": []
   },
   "outputs": [],
   "source": [
    "class ClassificationForest():\n",
    "    def __init__(self, n_trees, classes, n_min=1):\n",
    "        self.trees = [ClassificationTree(classes, n_min) for i in range(n_trees)]\n",
    "        self.classes = classes\n",
    "    \n",
    "    def train(self, features, responses):\n",
    "        for tree in self.trees:\n",
    "            boostrap_features, bootstrap_responses = bootstrap_sampling(features, responses)\n",
    "            tree.train(boostrap_features, bootstrap_responses)\n",
    "\n",
    "    def predict(self, x):\n",
    "        # compute the response of the ensemble from the individual responses and return it\n",
    "        predictions = [tree.predict(x) for tree in self.trees]\n",
    "        class_counts = np.bincount(predictions, minlength=len(self.classes))\n",
    "        return np.argmax(class_counts)\n",
    "        #raise NotImplementedError(\"predict(): remove this exception after adding your code above.\")"
   ]
  },
  {
   "cell_type": "markdown",
   "metadata": {},
   "source": [
    "# Evaluation of Regression and Decision Forest"
   ]
  },
  {
   "cell_type": "markdown",
   "metadata": {},
   "source": [
    "<div style=\"color: green; font-weight:\n",
    "bold\">Basiclly you implement the same evalution as the sample. But still, you don't need to calculate the square loss again. Just to calculating the mean is enough.</div> "
   ]
  },
  {
   "cell_type": "code",
   "execution_count": 14,
   "metadata": {
    "tags": []
   },
   "outputs": [
    {
     "name": "stdout",
     "output_type": "stream",
     "text": [
      "Average loss: 0.1964154461653531\n"
     ]
    }
   ],
   "source": [
    "# perform 5-fold cross-validation (see ex01) with responses +1 and -1 (for 3s and 9s)\n",
    "# using RegressionForest(n_trees=10)\n",
    "# and comment on your results\n",
    "\n",
    "n_trees = 10\n",
    "n_min = 10\n",
    "\n",
    "# Create an instance of RegressionForest\n",
    "forest = RegressionForest(n_trees=n_trees, n_min=n_min)\n",
    "\n",
    "# Perform 5-fold cross-validation\n",
    "kf = KFold(n_splits=5, shuffle=True, random_state=42)\n",
    "\n",
    "fold_losses = []\n",
    "for train_index, test_index in kf.split(features):\n",
    "    # Split the data into training and testing sets\n",
    "    X_train, X_test = features[train_index], features[test_index]\n",
    "    y_train, y_test = responses[train_index], responses[test_index]\n",
    "\n",
    "    # Train the forest on the training set\n",
    "    forest.train(X_train, y_train)\n",
    "\n",
    "    # Evaluate the forest on the testing set\n",
    "    fold_loss = np.mean([(forest.predict(x) - y) ** 2 for x, y in zip(X_test, y_test)])\n",
    "    fold_losses.append(fold_loss)\n",
    "\n",
    "# Compute the average loss across all folds\n",
    "average_loss = np.mean(fold_losses)\n",
    "\n",
    "print(\"Average loss:\", average_loss)"
   ]
  },
  {
   "cell_type": "markdown",
   "metadata": {},
   "source": [
    "The Regression Forest model shows better generalization compared to the Regression Tree model, as indicated by the lower average squared loss of 0.19. The ensemble of regression trees in the forest effectively combines the predictions from multiple trees, resulting in improved accuracy and reduced error. "
   ]
  },
  {
   "cell_type": "code",
   "execution_count": 18,
   "metadata": {},
   "outputs": [
    {
     "name": "stdout",
     "output_type": "stream",
     "text": [
      "Average accuracy: 0.49577625570776257\n"
     ]
    }
   ],
   "source": [
    "# perform 5-fold cross-validation with labels 3 and 9\n",
    "# using DecisionForest(n_trees=10, classes=np.unique(labels))\n",
    "# and comment on your results\n",
    "n_trees = 10\n",
    "n_min = 10\n",
    "\n",
    "forest = ClassificationForest(n_trees=n_trees, classes=np.unique(labels), n_min=n_min)\n",
    "\n",
    "kf = KFold(n_splits=5, shuffle=True, random_state=42)\n",
    "\n",
    "fold_accuracies = []\n",
    "for train_index, test_index in kf.split(features):\n",
    "\n",
    "    X_train, X_test = features[train_index], features[test_index]\n",
    "    y_train, y_test = labels[train_index], labels[test_index]\n",
    "\n",
    "    forest.train(X_train, y_train)\n",
    "\n",
    "    fold_accuracy = np.mean(forest.predict(X_test) == y_test)\n",
    "    fold_accuracies.append(fold_accuracy)\n",
    "\n",
    "\n",
    "average_accuracy = np.mean(fold_accuracies)\n",
    "\n",
    "print(\"Average accuracy:\", average_accuracy)"
   ]
  },
  {
   "cell_type": "markdown",
   "metadata": {},
   "source": [
    "There is a drop in accuracy when using Classification Forests compared to Classification Trees could be attributed to overfitting, lack of diversity among the trees or imbalanced classes."
   ]
  },
  {
   "cell_type": "markdown",
   "metadata": {},
   "source": [
    "# Multi-class Classification Forest"
   ]
  },
  {
   "cell_type": "markdown",
   "source": [],
   "metadata": {
    "collapsed": false
   }
  },
  {
   "cell_type": "markdown",
   "source": [
    " <div style=\"color: green; font-weight:bold\"> The solution you provided is correct and indeed similar to the provided solution.</div>"
   ],
   "metadata": {
    "collapsed": false,
    "pycharm": {
     "name": "#%% md\n"
    }
   }
  },
  {
   "cell_type": "code",
   "execution_count": 22,
   "metadata": {},
   "outputs": [
    {
     "name": "stdout",
     "output_type": "stream",
     "text": [
      "[[35.2  0.   0.   0.   0.2  0.   0.2  0.   0.   0. ]\n",
      " [ 0.  35.8  0.4  0.   0.2  0.   0.   0.   0.   0. ]\n",
      " [ 0.2  0.2 34.   0.4  0.   0.   0.   0.   0.2  0.4]\n",
      " [ 0.2  0.2  0.2 34.2  0.   0.2  0.   0.   1.4  0.2]\n",
      " [ 0.   0.4  0.   0.2 34.4  0.   0.4  0.4  0.   0.4]\n",
      " [ 0.   0.   0.2  0.4  0.6 33.8  0.2  0.   0.2  1. ]\n",
      " [ 0.2  0.4  0.2  0.2  0.2  0.  35.   0.   0.   0. ]\n",
      " [ 0.   0.   0.   0.   0.   0.   0.  35.6  0.2  0. ]\n",
      " [ 0.   1.6  0.6  0.2  0.6  0.2  0.2  0.  31.   0.4]\n",
      " [ 0.   0.   0.   0.2  0.2  0.8  0.   0.6  0.6 33.6]]\n"
     ]
    },
    {
     "data": {
      "image/png": "[encoded data removed]",
      "text/plain": [
       "<Figure size 1000x800 with 2 Axes>"
      ]
     },
     "metadata": {},
     "output_type": "display_data"
    }
   ],
   "source": [
    "# Train DecisionForest(n_trees=10, classes=np.unique(digits.target))\n",
    "# for all 10 digits simultaneously.\n",
    "# Compute and plot the confusion matrix after 5-fold cross-validation and comment on your results.\n",
    "from sklearn.metrics import confusion_matrix\n",
    "from sklearn.model_selection import StratifiedKFold\n",
    "import matplotlib.pyplot as plt\n",
    "import seaborn as sns\n",
    "\n",
    "forest = ClassificationForest(n_trees=10, classes=np.unique(digits.target))\n",
    "\n",
    "skf = StratifiedKFold(n_splits=5, shuffle=True, random_state=42)\n",
    "confusion_matrices = []\n",
    "\n",
    "for train_index, test_index in skf.split(digits.data, digits.target):\n",
    "    train_features, test_features = digits.data[train_index], digits.data[test_index]\n",
    "    train_labels, test_labels = digits.target[train_index], digits.target[test_index]\n",
    "\n",
    "    forest.train(train_features, train_labels)\n",
    "\n",
    "    predictions = [forest.predict(x) for x in test_features]\n",
    "\n",
    "    cm = confusion_matrix(test_labels, predictions, labels=np.unique(digits.target))\n",
    "    confusion_matrices.append(cm)\n",
    "    \n",
    "\n",
    "avg_cm = np.mean(confusion_matrices, axis=0)\n",
    "\n",
    "# Plot confusion matrix\n",
    "plt.figure(figsize=(10, 8))\n",
    "print(avg_cm)\n",
    "sns.heatmap(avg_cm, annot=True, cmap='Blues', fmt='g', xticklabels=np.unique(digits.target),\n",
    "            yticklabels=np.unique(digits.target))\n",
    "plt.xlabel('Predicted')\n",
    "plt.ylabel('True')\n",
    "plt.title('Confusion Matrix')\n",
    "plt.show()"
   ]
  },
  {
   "cell_type": "markdown",
   "metadata": {},
   "source": [
    "Overall, the model has achieved a relatively good performance with an average accuracy score of approximately 87.6%. This indicates that the majority of instances in the dataset were classified correctly.\n",
    "\n",
    "Looking at the individual digits, most of them have high diagonal values, indicating accurate classification. For example, digits 0, 1, 2, 3, 4, 6, 7, and 9 have high values along their respective diagonal, suggesting that the model is able to distinguish them effectively.\n",
    "\n",
    "However, there are some misclassifications evident in the confusion matrix. For instance, digits 2, 3, 4, 6, 8, and 9 have some off-diagonal values, indicating instances that were mistakenly classified as a different digit. "
   ]
  },
  {
   "cell_type": "markdown",
   "metadata": {},
   "source": [
    "# One-against-the-rest classification with RegressionForest"
   ]
  },
  {
   "cell_type": "markdown",
   "source": [
    "<div style=\"color: green; font-weight:\">Well done! Mostly correct. One thing you missed was the correct implementation of a \"balanced set\". This means that the number of trainig instances for each class is roughly the same. In the case of 1vall there is the problem that the \"all\" class will have many more observations than the 1 class. So one approach is to randomly sample from the instances of the \"rest\" class so that they sum up to be the same number as from the 1 class.</div>"
   ],
   "metadata": {
    "collapsed": false
   }
  },
  {
   "cell_type": "code",
   "execution_count": 23,
   "metadata": {},
   "outputs": [
    {
     "data": {
      "image/png": "[encoded data removed]",
      "text/plain": [
       "<Figure size 1000x800 with 2 Axes>"
      ]
     },
     "metadata": {},
     "output_type": "display_data"
    }
   ],
   "source": [
    "# Train ten one-against-the-rest regression forests for the 10 digits.\n",
    "# Make sure that all training sets are balanced between the current digit and the rest.\n",
    "# Assign test instances to the digit with highest score, \n",
    "# or to \"unknown\" if all scores are negative.\n",
    "# Compute and plot the confusion matrix after 5-fold cross-validation and comment on your results.\n",
    "class OneVsRestRegressionForest():\n",
    "    def __init__(self, n_trees, n_min=10):\n",
    "        self.n_trees = n_trees\n",
    "        self.n_min = n_min\n",
    "        self.forests = [RegressionForest(n_trees, n_min) for i in range(10)]\n",
    "\n",
    "    def train(self, features, labels):\n",
    "        for digit in range(10):\n",
    "            responses = np.array([1 if l == digit else -1 for l in labels])\n",
    "            balanced_features, balanced_responses = bootstrap_sampling(features, responses)\n",
    "            self.forests[digit].train(balanced_features, balanced_responses)\n",
    "\n",
    "    def predict(self, x):\n",
    "        scores = np.zeros(10)\n",
    "        for digit in range(10):\n",
    "            scores[digit] = self.forests[digit].predict(x)\n",
    "\n",
    "        if np.all(scores < 0):\n",
    "            return 'unknown'\n",
    "        else:\n",
    "            return np.argmax(scores)\n",
    "\n",
    "\n",
    "forest = OneVsRestRegressionForest(n_trees=10)\n",
    "\n",
    "skf = StratifiedKFold(n_splits=5, shuffle=True, random_state=42)\n",
    "confusion_matrices = []\n",
    "\n",
    "unknown_class = -1\n",
    "\n",
    "for train_index, test_index in skf.split(digits.data, digits.target):\n",
    "    train_features, test_features = digits.data[train_index], digits.data[test_index]\n",
    "    train_labels, test_labels = digits.target[train_index], digits.target[test_index]\n",
    "\n",
    "    forest.train(train_features, train_labels)\n",
    "\n",
    "    predictions = [forest.predict(x) for x in test_features]\n",
    "\n",
    "    test_labels = test_labels.astype(int)\n",
    "    predictions = np.array([unknown_class if pred == 'unknown' else int(pred) for pred in predictions])\n",
    "\n",
    "    cm = confusion_matrix(test_labels, predictions, labels=np.unique(digits.target)) \n",
    "    #confusion_matrix(test_labels, predictions)\n",
    "    confusion_matrices.append(cm)\n",
    "\n",
    "# Compute average confusion matrix\n",
    "avg_cm = np.mean(confusion_matrices, axis=0)\n",
    "\n",
    "# Plot confusion matrix\n",
    "plt.figure(figsize=(10, 8))\n",
    "sns.heatmap(avg_cm, annot=True, cmap='Blues', fmt='g',\n",
    "            xticklabels=np.unique(digits.target),\n",
    "            yticklabels=np.unique(digits.target))\n",
    "plt.xlabel('Predicted')\n",
    "plt.ylabel('True')\n",
    "plt.title('Confusion Matrix')\n",
    "plt.show()"
   ]
  },
  {
   "cell_type": "markdown",
   "metadata": {},
   "source": [
    "Based on the matrix, it appears that the model has achieved relatively high accuracy with an average accuracy score of approximately 93.4%. This indicates that the majority of instances in the dataset were classified correctly.\n",
    "\n",
    "Analyzing the individual digits, most of them have high diagonal values, indicating accurate classification. Digits 0, 4, 6, 7 have high values along their respective diagonal, suggesting that the model is able to distinguish them effectively.\n",
    "\n",
    "There are minimal misclassifications evident in the confusion matrix, with a few off-diagonal values for the other digits"
   ]
  }
 ],
 "metadata": {
  "kernelspec": {
   "display_name": "Python 3",
   "language": "python",
   "name": "python3"
  },
  "language_info": {
   "codemirror_mode": {
    "name": "ipython",
    "version": 3
   },
   "file_extension": ".py",
   "mimetype": "text/x-python",
   "name": "python",
   "nbconvert_exporter": "python",
   "pygments_lexer": "ipython3",
   "version": "3.7.0"
  }
 },
 "nbformat": 4,
 "nbformat_minor": 4
}