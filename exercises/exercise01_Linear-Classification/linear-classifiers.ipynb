{
 "cells": [
  {
   "cell_type": "code",
   "execution_count": 3,
   "metadata": {
    "ExecuteTime": {
     "end_time": "2023-05-03T19:23:43.961934Z",
     "start_time": "2023-05-03T19:23:43.520577Z"
    }
   },
   "outputs": [],
   "source": [
    "import numpy as np\n",
    "import sklearn\n",
    "import matplotlib\n",
    "import matplotlib.pyplot as plt\n",
    "from sklearn.datasets import load_digits\n",
    "\n",
    "def pprint(x, x_name):\n",
    "    if len(x.shape) > 1:\n",
    "        print(f\"{x_name} =\\n{x}\")\n",
    "    else:\n",
    "        print(f\"{x_name} = {x}\")"
   ]
  },
  {
   "cell_type": "markdown",
   "metadata": {},
   "source": [
    "### Dataset = [Optical recognition of handwritten digits dataset](https://scikit-learn.org/stable/datasets/toy_dataset.html#optical-recognition-of-handwritten-digits-dataset)\n",
    "Scikit-learn (usually abbreviated sklearn) provides a collection of standard datasets that are suitable for testing a classification algorithm (see https://scikit-learn.org/stable/datasets.html\n",
    "for a list of the available datasets and usage instructions). In this exercise, we want to recognize handwritten digits, which is a typical machine learning application. The dataset digits consists of\n",
    "1797 small images with one digit per image.\n",
    "Load the dataset from sklearn and extract the data:"
   ]
  },
  {
   "cell_type": "markdown",
   "metadata": {},
   "source": [
    "# 1. Exploring the Data"
   ]
  },
  {
   "cell_type": "code",
   "execution_count": 4,
   "metadata": {
    "ExecuteTime": {
     "end_time": "2023-05-03T19:23:43.971634Z",
     "start_time": "2023-05-03T19:23:43.963021Z"
    },
    "collapsed": false,
    "jupyter": {
     "outputs_hidden": false
    }
   },
   "outputs": [
    {
     "name": "stdout",
     "output_type": "stream",
     "text": [
      "dict_keys(['data', 'target', 'frame', 'feature_names', 'target_names', 'images', 'DESCR'])\n"
     ]
    }
   ],
   "source": [
    "digits = load_digits()\n",
    "print(digits.keys())\n",
    "\n",
    "data = digits[\"data\"]\n",
    "images = digits[\"images\"]\n",
    "target = digits[\"target\"]\n",
    "target_names = digits[\"target_names\"]"
   ]
  },
  {
   "cell_type": "markdown",
   "metadata": {},
   "source": [
    "Note that data is flattened (1-dimensional) version of images. What is the size of these images (the numpy attribute shape might come in handy)? Visualize one image of a 3 using the imshow function from `matplotlib.pyplot`, trying the two interpolation methods in the code:"
   ]
  },
  {
   "cell_type": "code",
   "execution_count": 5,
   "metadata": {
    "ExecuteTime": {
     "end_time": "2023-05-03T19:23:43.974857Z",
     "start_time": "2023-05-03T19:23:43.972926Z"
    },
    "collapsed": false,
    "jupyter": {
     "outputs_hidden": false
    }
   },
   "outputs": [
    {
     "name": "stdout",
     "output_type": "stream",
     "text": [
      "data =\n",
      "[[ 0.  0.  5. ...  0.  0.  0.]\n",
      " [ 0.  0.  0. ... 10.  0.  0.]\n",
      " [ 0.  0.  0. ... 16.  9.  0.]\n",
      " ...\n",
      " [ 0.  0.  1. ...  6.  0.  0.]\n",
      " [ 0.  0.  2. ... 12.  0.  0.]\n",
      " [ 0.  0. 10. ... 12.  1.  0.]]\n"
     ]
    }
   ],
   "source": [
    "pprint(data, \"data\")"
   ]
  },
  {
   "cell_type": "markdown",
   "metadata": {},
   "source": [
    "### What is the size of the image?"
   ]
  },
  {
   "cell_type": "code",
   "execution_count": 6,
   "metadata": {
    "ExecuteTime": {
     "end_time": "2023-05-03T19:23:44.020937Z",
     "start_time": "2023-05-03T19:23:43.976958Z"
    },
    "collapsed": false,
    "jupyter": {
     "outputs_hidden": false
    }
   },
   "outputs": [
    {
     "data": {
      "text/plain": [
       "(1797, 64)"
      ]
     },
     "execution_count": 6,
     "metadata": {},
     "output_type": "execute_result"
    }
   ],
   "source": [
    "data.shape"
   ]
  },
  {
   "cell_type": "markdown",
   "metadata": {},
   "source": [
    "The data is a flattened vector of the 8x8 pixel 16 bit images, hence the length of 64."
   ]
  },
  {
   "cell_type": "code",
   "execution_count": 7,
   "metadata": {
    "ExecuteTime": {
     "end_time": "2023-05-03T19:23:44.021145Z",
     "start_time": "2023-05-03T19:23:44.020907Z"
    },
    "collapsed": false,
    "jupyter": {
     "outputs_hidden": false
    }
   },
   "outputs": [
    {
     "data": {
      "text/plain": [
       "array([0, 1, 2, ..., 8, 9, 8])"
      ]
     },
     "execution_count": 7,
     "metadata": {},
     "output_type": "execute_result"
    }
   ],
   "source": [
    "target"
   ]
  },
  {
   "cell_type": "code",
   "execution_count": 8,
   "metadata": {
    "ExecuteTime": {
     "end_time": "2023-05-03T19:23:44.021223Z",
     "start_time": "2023-05-03T19:23:44.020998Z"
    },
    "collapsed": false,
    "jupyter": {
     "outputs_hidden": false
    }
   },
   "outputs": [
    {
     "data": {
      "text/plain": [
       "3"
      ]
     },
     "execution_count": 8,
     "metadata": {},
     "output_type": "execute_result"
    }
   ],
   "source": [
    "np.where(target == 3)[0][0]"
   ]
  },
  {
   "cell_type": "code",
   "execution_count": 9,
   "metadata": {
    "ExecuteTime": {
     "end_time": "2023-05-03T19:23:44.021276Z",
     "start_time": "2023-05-03T19:23:44.021052Z"
    },
    "collapsed": false,
    "jupyter": {
     "outputs_hidden": false
    }
   },
   "outputs": [
    {
     "name": "stdout",
     "output_type": "stream",
     "text": [
      "img =\n",
      "[[ 0.  0.  7. 15. 13.  1.  0.  0.  0.  8. 13.  6. 15.  4.  0.  0.  0.  2.\n",
      "   1. 13. 13.  0.  0.  0.  0.  0.  2. 15. 11.  1.  0.  0.  0.  0.  0.  1.\n",
      "  12. 12.  1.  0.  0.  0.  0.  0.  1. 10.  8.  0.  0.  0.  8.  4.  5. 14.\n",
      "   9.  0.  0.  0.  7. 13. 13.  9.  0.  0.]]\n"
     ]
    }
   ],
   "source": [
    "img = data[[3]]\n",
    "\n",
    "assert len(img.shape) == 2\n",
    "\n",
    "pprint(img, \"img\")"
   ]
  },
  {
   "cell_type": "code",
   "execution_count": 10,
   "metadata": {
    "ExecuteTime": {
     "end_time": "2023-05-03T19:23:44.118750Z",
     "start_time": "2023-05-03T19:23:44.021102Z"
    },
    "collapsed": false,
    "jupyter": {
     "outputs_hidden": false
    }
   },
   "outputs": [
    {
     "data": {
      "image/png": "[encoded data removed]",
      "text/plain": [
       "<Figure size 640x480 with 1 Axes>"
      ]
     },
     "metadata": {},
     "output_type": "display_data"
    },
    {
     "data": {
      "image/png": "[encoded data removed]",
      "text/plain": [
       "<Figure size 640x480 with 1 Axes>"
      ]
     },
     "metadata": {},
     "output_type": "display_data"
    }
   ],
   "source": [
    "plt.figure()\n",
    "plt.gray()\n",
    "plt.imshow(img, interpolation = \"nearest\")\n",
    "plt.show()\n",
    "\n",
    "plt.figure()\n",
    "plt.gray()\n",
    "plt.imshow(np.reshape(img, (8,8)) , interpolation = \"nearest\")\n",
    "plt.show()"
   ]
  },
  {
   "cell_type": "code",
   "execution_count": 11,
   "metadata": {
    "ExecuteTime": {
     "end_time": "2023-05-03T19:23:44.281140Z",
     "start_time": "2023-05-03T19:23:44.127474Z"
    },
    "collapsed": false,
    "jupyter": {
     "outputs_hidden": false
    }
   },
   "outputs": [
    {
     "data": {
      "image/png": "[encoded data removed]",
      "text/plain": [
       "<Figure size 640x480 with 1 Axes>"
      ]
     },
     "metadata": {},
     "output_type": "display_data"
    },
    {
     "data": {
      "image/png": "[encoded data removed]",
      "text/plain": [
       "<Figure size 640x480 with 1 Axes>"
      ]
     },
     "metadata": {},
     "output_type": "display_data"
    }
   ],
   "source": [
    "plt.figure()\n",
    "plt.gray()\n",
    "plt.imshow(img , interpolation = \"bicubic\")\n",
    "plt.show()\n",
    "\n",
    "plt.figure()\n",
    "plt.gray()\n",
    "plt.imshow(np.reshape(img, (8,8)) , interpolation = \"bicubic\")\n",
    "plt.show()"
   ]
  },
  {
   "cell_type": "markdown",
   "metadata": {},
   "source": [
    "We will only work with digits \"3\" and \"9\" to get a two-class problem. Please filter the dataset such that only these two digits are left. Split this filtered dataset in a training and a test set (#train/#test = 3/2). Sklearn provides a convenient function to separate the data into a training and a test set:"
   ]
  },
  {
   "cell_type": "code",
   "execution_count": 12,
   "metadata": {
    "ExecuteTime": {
     "end_time": "2023-05-03T19:23:44.368100Z",
     "start_time": "2023-05-03T19:23:44.282671Z"
    },
    "collapsed": false,
    "jupyter": {
     "outputs_hidden": false
    }
   },
   "outputs": [],
   "source": [
    "from sklearn import model_selection\n",
    "X_filtered = data[np.in1d(target, [3,9])]\n",
    "y_filtered = target[np.in1d(target, [3,9])]\n",
    "\n",
    "X_train , X_test , y_train , y_test = \\\n",
    "    model_selection.train_test_split(X_filtered, y_filtered, test_size = 0.4, random_state = 0)"
   ]
  },
  {
   "cell_type": "markdown",
   "metadata": {},
   "source": [
    "# 2. Hand-crafted classifier\n",
    "\n",
    "To better appreciate the achievements of machine learning, we will start with a hand-crafted classifier"
   ]
  },
  {
   "cell_type": "markdown",
   "metadata": {},
   "source": [
    "## 2.1 Feature construction\n",
    "\n",
    "To facilitate visualization, you should construct a 2-dimensional feature space with any formula over the 64 original pixels you can come up with. You may, for example, choose two pixels that seem to have a big influence for the distinction between 3's and 9's. To identify suitable pixels, you may want to look at the average images for the two classes - pixels that tend to be bright in one class and dark in the other are good candidates. You can also use some clever linear or non-linear combination of multiple pixels into 2 features, for example: $\\hat{f}_1 = 0.3 \\cdot f_{23} + 42 \\cdot \\frac{f_13}{f_64}$ and $\\hat{f}_2 = f_{33} - f_{62}$. Of course, the quality of your features determines the achievable error and therefore is a limiting factor for the quality of your predictions. Your dimension reduction procedure should be callable through a function `features2d`:\n",
    "$\\text{features = features2d(x)}$\n",
    "where x is a #instances × 64 matrix and features has shape #instances × 2."
   ]
  },
  {
   "cell_type": "markdown",
   "metadata": {},
   "source": [
    "IDF: Create a dimentionality reduction function to reduce the information found in 64 pixels (features) to 2 arbirtrarily set features"
   ]
  },
  {
   "cell_type": "code",
   "execution_count": 13,
   "metadata": {
    "ExecuteTime": {
     "end_time": "2023-05-03T19:23:44.368335Z",
     "start_time": "2023-05-03T19:23:44.333255Z"
    },
    "collapsed": false,
    "jupyter": {
     "outputs_hidden": false
    }
   },
   "outputs": [],
   "source": [
    "def features2d(x):\n",
    "    \"\"\"\n",
    "    - Input: np.array | shape = (N, 64)\n",
    "    - Output: np.array | shape = (N, 2)\n",
    "    - Algorithm:\n",
    "        Computes the mean of the upper half and the lower half of the array\n",
    "    \"\"\"\n",
    "\n",
    "    f1 = np.mean(x[:, 0:32], axis = 1)\n",
    "    f2 = np.mean(x[:, 32:64], axis = 1)\n",
    "\n",
    "    dim_red = np.stack([f1, f2], axis = 1)\n",
    "    \n",
    "    return dim_red"
   ]
  },
  {
   "cell_type": "code",
   "execution_count": 14,
   "metadata": {
    "ExecuteTime": {
     "end_time": "2023-05-03T19:23:44.368395Z",
     "start_time": "2023-05-03T19:23:44.333292Z"
    },
    "collapsed": false,
    "jupyter": {
     "outputs_hidden": false
    }
   },
   "outputs": [],
   "source": [
    "X_train_red = features2d(X_train)\n",
    "X_test_red = features2d(X_test)"
   ]
  },
  {
   "cell_type": "markdown",
   "metadata": {},
   "source": [
    "## 2.2 Scatterplot"
   ]
  },
  {
   "cell_type": "code",
   "execution_count": 15,
   "metadata": {
    "ExecuteTime": {
     "end_time": "2023-05-03T19:23:44.409354Z",
     "start_time": "2023-05-03T19:23:44.333327Z"
    },
    "collapsed": false,
    "jupyter": {
     "outputs_hidden": false
    }
   },
   "outputs": [
    {
     "data": {
      "image/png": "[encoded data removed]",
      "text/plain": [
       "<Figure size 640x480 with 1 Axes>"
      ]
     },
     "metadata": {},
     "output_type": "display_data"
    }
   ],
   "source": [
    "plt.figure()\n",
    "plt.scatter(X_train_red[y_train == 3][:, 0], X_train_red[y_train == 3][:, 1], s=20)\n",
    "plt.scatter(X_train_red[y_train == 9][:, 0], X_train_red[y_train == 9][:, 1], s=20, marker=\"D\")\n",
    "plt.title(\"New 2D dimentionality reduction\", fontsize=17)\n",
    "plt.xlabel(\"mean(upper image half)\")\n",
    "plt.ylabel(\"mean(lower image half)\")\n",
    "plt.show()"
   ]
  },
  {
   "cell_type": "markdown",
   "metadata": {},
   "source": [
    "## 2.3 Decision rule\n",
    "\n",
    "First define a very simple decision rule: Find the mean of the 2D feature vectors of each class in the training set and assign each test instance to the label of the nearest mean. The decision boundary\n",
    "of this method is the bisector between the two means. The signature of the function is supposed to look like this:\n",
    "$$\\text{predicted_labels = nearest_mean(training_features, training_labels, test_features)}$$\n",
    "where `training_features` and `test_features` are the outputs of `features2d()` for training and test data respectively. Compute and report the training and test errors of the classifier (i.e. the ratio $\\frac{#FP + #FN}{N}$ on the respective dataset).\n",
    "\n",
    "If your features are very informative, this classifier may already have good performance. Otherwise, you can define a more sophisticated decision boundary by picking good β and b in the formula $ybi = sign(xi · β + b)$. If this is still not satisfactory, improve your features. Again compute and report the test error of your formula."
   ]
  },
  {
   "cell_type": "markdown",
   "metadata": {},
   "source": [
    "IDF: Create a decision rule based on class means of each feature. The decision is made based on the closes mean (bisecting function, perpendicular bisector in 2D)"
   ]
  },
  {
   "cell_type": "code",
   "execution_count": 16,
   "metadata": {
    "ExecuteTime": {
     "end_time": "2023-05-03T19:23:44.412741Z",
     "start_time": "2023-05-03T19:23:44.411432Z"
    },
    "collapsed": false,
    "jupyter": {
     "outputs_hidden": false
    }
   },
   "outputs": [],
   "source": [
    "def bisector(point1, point2):\n",
    "    \"\"\"\n",
    "    Takes two vectors and finds the bisecting function\n",
    "    - point1: np.array, .shape = (2)\n",
    "    - point1: np.array, .shape = (2)\n",
    "    - return: list, len = 2\n",
    "\n",
    "    - What is a bisector? https://www.youtube.com/watch?v=9SSVIa2npK8\n",
    "    The bisector is the function that goes through the midpoint between two datapoints and (2) has a perpendicular slope to the vector between the datapoints\n",
    "    \"\"\"\n",
    "\n",
    "\n",
    "    # Find the midpoint of the two vectors by taking the average of the two points\n",
    "    midpoint = (point1 + point2) / 2\n",
    "\n",
    "    # Find the slope of the vector\n",
    "    m = point1 - point2\n",
    "    m = m[1] / m[0]\n",
    "\n",
    "    # Invert the slope\n",
    "    m_i = -1 / m\n",
    "\n",
    "    # Find the b coefficient in y = mx + b\n",
    "    b = midpoint[1] - (m_i * midpoint[0])\n",
    "\n",
    "    return [m_i, b]"
   ]
  },
  {
   "cell_type": "code",
   "execution_count": 17,
   "metadata": {
    "ExecuteTime": {
     "end_time": "2023-05-03T19:23:44.472764Z",
     "start_time": "2023-05-03T19:23:44.415003Z"
    },
    "collapsed": false,
    "jupyter": {
     "outputs_hidden": false
    }
   },
   "outputs": [],
   "source": [
    "def classifier(X, m, b, label1, label2):\n",
    "    \"\"\"\n",
    "    Classifies a response dataset based on a bisecting function\n",
    "    - X: np.array, .shape = 2\n",
    "    - m: slope,\n",
    "    - b: b coefficient\n",
    "    - label1: int\n",
    "    - label2: int\n",
    "    - return: np.array, .shape = 1\n",
    "    \"\"\"\n",
    "    return np.where(X[:,1] > (X[:,0] * m + b), label1, label2).astype(int)"
   ]
  },
  {
   "cell_type": "code",
   "execution_count": 18,
   "metadata": {
    "ExecuteTime": {
     "end_time": "2023-05-03T19:23:44.472905Z",
     "start_time": "2023-05-03T19:23:44.456745Z"
    },
    "collapsed": false,
    "jupyter": {
     "outputs_hidden": false
    }
   },
   "outputs": [],
   "source": [
    "def nearest_mean(X, y, y_2_pred):\n",
    "    \"\"\"\n",
    "    - param X_train: train set , type == np.array() , .shape == (N_train, 2)\n",
    "    - y_train: test set | type == np.array() , .shape == (N_test, 2)\n",
    "    - param X_test: train labels, .shape = (N_test)\n",
    "    - return: predicted class, np.array, .shape = (N_test)\n",
    "    \"\"\"\n",
    "    means_train = np.array(\n",
    "        [np.mean(X[y == 3], axis=0),\n",
    "         np.mean(X[y == 9], axis=0)]\n",
    "    )\n",
    "\n",
    "    m, b = bisector(means_train[0], means_train[1])\n",
    "\n",
    "    pred = classifier(y_2_pred, m, b, label1=3, label2=9)\n",
    "\n",
    "    return pred"
   ]
  },
  {
   "cell_type": "code",
   "execution_count": 19,
   "metadata": {
    "ExecuteTime": {
     "end_time": "2023-05-03T19:23:44.473042Z",
     "start_time": "2023-05-03T19:23:44.456772Z"
    },
    "collapsed": false,
    "jupyter": {
     "outputs_hidden": false
    }
   },
   "outputs": [
    {
     "name": "stdout",
     "output_type": "stream",
     "text": [
      "y_test_pred = [9 9 9 3 9 9 3 3 3 3 3 9 9 3 9 9 3 3 9 9 9 9 3 3 3 3 3 9 9 3 9 9 9 3 9 3 9\n",
      " 3 3 3 3 9 3 3 3 3 3 9 3 3 3 9 9 9 9 9 9 3 9 9 3 3 3 3 9 9 3 9 9 9 9 3 9 3\n",
      " 9 9 9 3 9 9 3 9 3 9 9 3 9 3 9 9 3 9 9 9 9 9 9 9 3 9 3 3 3 3 9 9 3 3 3 9 3\n",
      " 9 9 9 3 3 9 9 3 9 9 9 3 3 9 3 9 9 3 9 9 9 3 9 9 3 3 9 3 9 9 3 9 3 9 9]\n"
     ]
    }
   ],
   "source": [
    "y_test_pred = nearest_mean(X=X_train_red, y=y_train, y_2_pred=X_test_red)\n",
    "\n",
    "pprint(y_test_pred, \"y_test_pred\")"
   ]
  },
  {
   "cell_type": "code",
   "execution_count": 20,
   "metadata": {
    "ExecuteTime": {
     "end_time": "2023-05-03T19:23:44.473107Z",
     "start_time": "2023-05-03T19:23:44.456798Z"
    },
    "collapsed": false,
    "jupyter": {
     "outputs_hidden": false
    }
   },
   "outputs": [
    {
     "name": "stdout",
     "output_type": "stream",
     "text": [
      "y_train_pred = [9 9 9 3 9 3 3 3 9 9 9 3 3 3 9 9 3 9 9 3 9 3 9 9 3 3 9 9 9 3 9 9 3 9 9 3 3\n",
      " 3 3 3 3 3 9 9 3 3 9 9 3 9 3 9 9 9 9 3 3 9 3 3 9 9 3 9 3 3 9 3 3 3 3 9 9 3\n",
      " 9 9 9 3 3 9 3 3 3 3 3 9 3 3 3 9 3 9 9 9 9 9 9 3 9 3 3 3 3 3 3 9 3 3 9 9 9\n",
      " 9 9 9 9 3 3 9 3 9 3 9 3 3 3 3 3 3 9 9 3 9 3 9 3 3 9 9 9 3 3 3 9 9 3 9 3 3\n",
      " 3 3 3 3 3 3 9 9 9 9 9 9 3 3 3 9 3 3 9 9 9 3 3 3 3 3 3 9 3 9 9 9 9 3 9 3 9\n",
      " 3 3 3 9 3 9 3 9 9 3 3 9 3 3 3 3 9 3 9 3 9 9 3 9 3 3 3 3 3 3 9 3]\n"
     ]
    }
   ],
   "source": [
    "y_train_pred = nearest_mean(X=X_train_red, y=y_train, y_2_pred=X_train_red)\n",
    "\n",
    "pprint(y_train_pred, \"y_train_pred\")"
   ]
  },
  {
   "cell_type": "markdown",
   "metadata": {},
   "source": [
    "**Test error**"
   ]
  },
  {
   "cell_type": "code",
   "execution_count": 21,
   "metadata": {
    "ExecuteTime": {
     "end_time": "2023-05-03T19:23:44.473187Z",
     "start_time": "2023-05-03T19:23:44.456821Z"
    },
    "collapsed": false,
    "jupyter": {
     "outputs_hidden": false
    }
   },
   "outputs": [
    {
     "data": {
      "text/plain": [
       "0.21232876712328766"
      ]
     },
     "execution_count": 21,
     "metadata": {},
     "output_type": "execute_result"
    }
   ],
   "source": [
    "np.sum((y_test_pred - y_test) != 0) / len(y_test_pred)"
   ]
  },
  {
   "cell_type": "markdown",
   "metadata": {},
   "source": [
    "**Train error**"
   ]
  },
  {
   "cell_type": "code",
   "execution_count": 22,
   "metadata": {
    "ExecuteTime": {
     "end_time": "2023-05-03T19:23:44.473263Z",
     "start_time": "2023-05-03T19:23:44.456890Z"
    },
    "collapsed": false,
    "jupyter": {
     "outputs_hidden": false
    }
   },
   "outputs": [
    {
     "data": {
      "text/plain": [
       "0.17972350230414746"
      ]
     },
     "execution_count": 22,
     "metadata": {},
     "output_type": "execute_result"
    }
   ],
   "source": [
    "np.sum((y_train_pred - y_train) != 0) / len(y_train_pred)"
   ]
  },
  {
   "cell_type": "markdown",
   "metadata": {},
   "source": [
    "IDF: Training error is overconfident"
   ]
  },
  {
   "cell_type": "markdown",
   "metadata": {},
   "source": [
    "## 2.4 Visualize the decision regions\n",
    "\n",
    "An image of the decision regions can be quite helpful for analyzing classi\u001c",
    "er performance. The simplest way to do this is to create a grid (i.e. an image) where each pixel position represents\n",
    "a feature coordinate, and the pixel is colored with the corresponding predicted class label. Since you created the features on your own, you must \u001c",
    "nd a sensible transformation (i.e translation and\n",
    "scaling) from feature coordinates to grid coordinates so that your image covers the interesting part of the feature domain. A 200×200 grid provides su\u001e",
    "cient resolution. Plot this image to visualize the\n",
    "decision regions. Overlay the plot with two markers for the two class means and with a scatterplot of the test data, marked according to their ground truth labels as in task 2.2. Consult the matplotlib\n",
    "documentation to \u001c",
    "nd out how several layers of information can be overlayed in the same plot. Plot the decision boundary of the two models from the previous subtask."
   ]
  },
  {
   "cell_type": "markdown",
   "metadata": {},
   "source": [
    "IDF: Create decision rule explicitly"
   ]
  },
  {
   "cell_type": "code",
   "execution_count": 23,
   "metadata": {
    "ExecuteTime": {
     "end_time": "2023-05-03T19:23:44.473293Z",
     "start_time": "2023-05-03T19:23:44.456913Z"
    },
    "collapsed": false,
    "jupyter": {
     "outputs_hidden": false
    }
   },
   "outputs": [],
   "source": [
    "means_train = np.array(\n",
    "        [np.mean(X_train_red[y_train == 3], axis=0),\n",
    "         np.mean(X_train_red[y_train == 9], axis=0)]\n",
    "    )\n",
    "\n",
    "m, b = bisector(means_train[0], means_train[1])"
   ]
  },
  {
   "cell_type": "markdown",
   "metadata": {},
   "source": [
    "IDF: Create coordinate grid and \"discrete\" values for each coordinate"
   ]
  },
  {
   "cell_type": "code",
   "execution_count": 24,
   "metadata": {
    "ExecuteTime": {
     "end_time": "2023-05-03T19:23:45.205846Z",
     "start_time": "2023-05-03T19:23:44.456931Z"
    },
    "collapsed": false,
    "jupyter": {
     "outputs_hidden": false
    }
   },
   "outputs": [],
   "source": [
    "x = np.linspace(3, 9, 400) # x-limits and resolution arbitrarily set after plotting and adjusting\n",
    "y = np.linspace(1, 7, 400) # x-limits and resolution arbitrarily set after plotting and adjusting\n",
    "\n",
    "X, Y = np.meshgrid(x, y)\n",
    "\n",
    "pos = np.dstack((X, Y))\n",
    "\n",
    "L = np.zeros(X.shape)\n",
    "\n",
    "for x in range(0, X.shape[0]):\n",
    "    for y in range(0, X.shape[1]):\n",
    "        L[x, y] = classifier(np.array([[X[x,y], Y[x,y]]]), m, b, label1=3, label2=9)\n",
    "\n"
   ]
  },
  {
   "cell_type": "markdown",
   "metadata": {},
   "source": [
    "IDF: Plot"
   ]
  },
  {
   "cell_type": "code",
   "execution_count": 25,
   "metadata": {
    "ExecuteTime": {
     "end_time": "2023-05-03T19:23:45.367940Z",
     "start_time": "2023-05-03T19:23:45.208281Z"
    },
    "collapsed": false,
    "jupyter": {
     "outputs_hidden": false
    }
   },
   "outputs": [
    {
     "data": {
      "image/png": "[encoded data removed]",
      "text/plain": [
       "<Figure size 1000x1000 with 1 Axes>"
      ]
     },
     "metadata": {},
     "output_type": "display_data"
    }
   ],
   "source": [
    "plt.figure(figsize=(10,10))\n",
    "\n",
    "plt.contourf(X, Y, L, levels=2, alpha=0.2, colors=[\"red\",\"blue\"])#, shading=\"auto\")\n",
    "plt.scatter(X_train_red[y_train == 3][:, 0], X_train_red[y_train == 3][:, 1], s=20, c=\"red\", label=\"\\\"3\\\" - train set\")\n",
    "plt.scatter(X_train_red[y_train == 9][:, 0], X_train_red[y_train == 9][:, 1], s=20, c=\"blue\", label=\"\\\"9\\\" - train set\")\n",
    "plt.scatter(X_test_red[y_test == 3][:, 0], X_test_red[y_test == 3][:, 1], s=20, c=\"red\", marker=\"+\", label=\"\\\"3\\\" - test set\")\n",
    "plt.scatter(X_test_red[y_test == 9][:, 0], X_test_red[y_test == 9][:, 1], s=20, c=\"red\", marker=\"+\", label=\"\\\"9\\\" - test set\")\n",
    "\n",
    "plt.legend()\n",
    "\n",
    "plt.title(\"Hand-crafted classifier\", fontsize=17)\n",
    "plt.xlabel(\"mean(upper image half)\")\n",
    "plt.ylabel(\"mean(lower image half)\")\n",
    "plt.show()"
   ]
  },
  {
   "cell_type": "markdown",
   "metadata": {},
   "source": [
    "# 3 LDA"
   ]
  },
  {
   "cell_type": "markdown",
   "metadata": {},
   "source": [
    "## 3.1 Implement LDA training"
   ]
  },
  {
   "cell_type": "markdown",
   "metadata": {},
   "source": [
    "Implement function:\n",
    "\n",
    "mu, covmat, p = fit_lda(training_features, training_labels)\n",
    "\n",
    "that accepts a N × D matrix training_features and a N -dimensional vector training_labels, where N is the total number of training instances used. Your code should work for arbitrary values of D, so that we can apply it to your features from task 2 as well as to the full vector of 64 pixels. Recall that the features xj are the rows of matrix training_features."
   ]
  },
  {
   "cell_type": "code",
   "execution_count": 26,
   "metadata": {},
   "outputs": [],
   "source": [
    "def fit_lda(training_features, training_labels):\n",
    "    '''\n",
    "    training_features: an N x D matrix, where N is the total number of instances\n",
    "    training_labels: N-dimentional vector\n",
    "    '''\n",
    "    # Remove the 'dead' pixels with variance < 0.001\n",
    "    variance_threshold = 0.001\n",
    "    feature_variances = np.var(training_features, axis=0)\n",
    "    valid_indices = np.where(feature_variances >= variance_threshold)[0]\n",
    "    filtered_features = training_features[:, valid_indices]\n",
    "    \n",
    "    # Separate features based on class labels\n",
    "    class_3_features = filtered_features[training_labels == 3] # 3\n",
    "    class_9_features = filtered_features[training_labels == 9] # 9\n",
    "    \n",
    "    # Calculate class means\n",
    "    mu_3 = np.mean(class_3_features, axis=0)\n",
    "    mu_9 = np.mean(class_9_features, axis=0)\n",
    "    \n",
    "    # Calculate the covariance matrix\n",
    "    covmat_3 = np.cov(class_3_features, rowvar=False)\n",
    "    covmat_9 = np.cov(class_9_features, rowvar=False)\n",
    "    \n",
    "    # Calculate the pooled covariance matrix\n",
    "    N_3 = class_3_features.shape[0]\n",
    "    N_9 = class_9_features.shape[0]\n",
    "    covmat = (covmat_3 * (N_3) + covmat_9 * (N_9)) / (N_3 + N_9)\n",
    "    \n",
    "    # Calculate the priors\n",
    "    p = np.array([N_3, N_9]) / (N_3 + N_9)\n",
    "    \n",
    "    # Combine class means into a matrix\n",
    "    mu = np.vstack((mu_3, mu_9))\n",
    "    \n",
    "    return mu, covmat, p\n",
    "    "
   ]
  },
  {
   "cell_type": "code",
   "execution_count": 27,
   "metadata": {},
   "outputs": [
    {
     "name": "stdout",
     "output_type": "stream",
     "text": [
      "mu_1 (2, 2)\n",
      "covmat_1 (2, 2)\n",
      "p_1 (2,)\n",
      "mu_2 (2, 53)\n",
      "covmat_2 (53, 53)\n",
      "p_2 (2,)\n"
     ]
    }
   ],
   "source": [
    "mu_1, covmat_1, p_1 = fit_lda(training_features = X_train_red, training_labels =y_train)\n",
    "mu_2, covmat_2, p_2 = fit_lda(training_features = X_train, training_labels =y_train)\n",
    "\n",
    "print('mu_1', mu_1.shape)\n",
    "print('covmat_1', covmat_1.shape)\n",
    "print('p_1', p_1.shape)\n",
    "print('mu_2', mu_2.shape)\n",
    "print('covmat_2', covmat_2.shape)\n",
    "print('p_2', p_2.shape)"
   ]
  },
  {
   "cell_type": "markdown",
   "metadata": {},
   "source": [
    "## 3.2 Implement LDA prediction"
   ]
  },
  {
   "cell_type": "markdown",
   "metadata": {},
   "source": [
    "Now, using the output of fit_lda() to implement a function:\n",
    "\n",
    "predicted_labels = predict_lda(mu, covmat, p, test_features)\n",
    "\n",
    "which uses LDA to predict the labels (a M dimensional vector) for a M × D matrix test_features of test instances. Apply the function separately to your training and test data and compute the training and test error rates respectively."
   ]
  },
  {
   "cell_type": "code",
   "execution_count": 28,
   "metadata": {},
   "outputs": [],
   "source": [
    "def predict_lda(mu, covmat, p, test_features):\n",
    "    '''\n",
    "    mu: the class means matrix\n",
    "    covmat: the pooled covariance matrix\n",
    "    p: the priors vector\n",
    "    '''\n",
    "    # Compute the inverse of the covariance matrix\n",
    "    covmat_inv = np.linalg.inv(covmat)\n",
    "    \n",
    "    # Calculate the coefficients for the decision rule\n",
    "    beta = covmat_inv.dot(mu[1] - mu[0])\n",
    "    b = -0.5 * (mu[1] + mu[0]).dot(beta) + np.log(p[1] / p[0])\n",
    "    \n",
    "    # Apply the decision rule to make predictions\n",
    "    scores = test_features.dot(beta) + b\n",
    "    predicted_labels = np.sign(scores)\n",
    "    \n",
    "    return predicted_labels"
   ]
  },
  {
   "cell_type": "code",
   "execution_count": 29,
   "metadata": {},
   "outputs": [
    {
     "name": "stdout",
     "output_type": "stream",
     "text": [
      "Training error rate: 0.6221198156682027\n",
      "Test error rate: 0.5753424657534246\n"
     ]
    }
   ],
   "source": [
    "# Apply the predict_lda function to training and test data\n",
    "train_predicted_labels = predict_lda(mu_1, covmat_1, p_1, X_train_red)\n",
    "test_predicted_labels = predict_lda(mu_1, covmat_1, p_1, X_test_red)\n",
    "\n",
    "# Create label arrays where -1 is for 3 and 1 for 9\n",
    "y_train_label = np.where(y_train == 3, -1, y_train)\n",
    "y_train_label = np.where(y_train == 9, 1, y_train)\n",
    "y_test_label = np.where(y_test == 3, -1, y_test)\n",
    "y_test_label = np.where(y_test == 9, 1, y_test)\n",
    "\n",
    "# Compute the training and test error rates\n",
    "train_error_rate = np.mean(train_predicted_labels != y_train_label)\n",
    "test_error_rate = np.mean(test_predicted_labels != y_test_label)\n",
    "\n",
    "print(\"Training error rate:\", train_error_rate)\n",
    "print(\"Test error rate:\", test_error_rate)"
   ]
  },
  {
   "cell_type": "markdown",
   "metadata": {},
   "source": [
    "## 3.3 Visualization"
   ]
  }
 ],
 "metadata": {
  "kernelspec": {
   "display_name": "Python 3 (ipykernel)",
   "language": "python",
   "name": "python3"
  },
  "language_info": {
   "codemirror_mode": {
    "name": "ipython",
    "version": 3
   },
   "file_extension": ".py",
   "mimetype": "text/x-python",
   "name": "python",
   "nbconvert_exporter": "python",
   "pygments_lexer": "ipython3",
   "version": "3.11.3"
  }
 },
 "nbformat": 4,
 "nbformat_minor": 4
}
