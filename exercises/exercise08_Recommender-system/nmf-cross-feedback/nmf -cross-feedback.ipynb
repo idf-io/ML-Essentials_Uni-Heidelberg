{
 "cells": [
  {
   "cell_type": "code",
   "execution_count": 12,
   "id": "33bad43f",
   "metadata": {},
   "outputs": [],
   "source": [
    "import numpy as np\n",
    "from sklearn.datasets import load_digits\n",
    "from sklearn.decomposition import NMF\n",
    "import pandas as pd # install pandas via conda"
   ]
  },
  {
   "cell_type": "code",
   "execution_count": 15,
   "id": "56d80a9f",
   "metadata": {},
   "outputs": [
    {
     "name": "stdout",
     "output_type": "stream",
     "text": [
      "(1797, 64)\n"
     ]
    }
   ],
   "source": [
    "digits = load_digits()\n",
    "\n",
    "data = digits[\"data\"]\n",
    "images = digits[\"images\"]\n",
    "target = digits[\"target\"]\n",
    "target_names = digits[\"target_names\"]\n",
    "\n",
    "\n",
    "print(data.shape)"
   ]
  },
  {
   "cell_type": "code",
   "execution_count": 45,
   "id": "20802706",
   "metadata": {},
   "outputs": [
    {
     "name": "stdout",
     "output_type": "stream",
     "text": [
      "(10, 64)\n",
      "(1797, 10)\n"
     ]
    }
   ],
   "source": [
    "def non_negative(data, num_components):\n",
    "    H = np.abs(np.random.randn(num_components,data.shape[1]))\n",
    "    Z = np.abs(np.random.randn(data.shape[0], num_components))\n",
    "\n",
    "    #print(np.matmul(np.matmul(Z.T, Z), H.T).shape)\n",
    "    #print(np.matmul(H.T, data).shape)\n",
    "\n",
    "    for i in range(0,1000):\n",
    "        H = np.multiply(H, np.multiply(np.matmul(np.transpose(Z), data), 1/np.clip(np.matmul(np.matmul(Z.T, Z), H), 0.0001, None)))\n",
    "        Z = np.multiply(Z, np.multiply(np.matmul(data, H.T), 1 / np.clip(np.matmul(np.matmul(Z, H), H.T), 0.0001, None)))\n",
    "    \n",
    "    return H, Z\n",
    "\n",
    "        \n",
    "model = NMF(n_components=10, max_iter=1000)\n",
    "W = model.fit_transform(data)\n",
    "H = model.components_\n",
    "\n",
    "H_1, Z = non_negative(data, 10)\n"
   ]
  },
  {
   "cell_type": "markdown",
   "id": "114421bc",
   "metadata": {},
   "source": [
    "<div style=\"color: green; font-weight: bold\">You forgot to recalculate X for each iteration. You could have also calculated the loss and plotted it to see that it decreases with t. Also you should've plotted H and compared it to sklearn's implementation</div>"
   ]
  },
  {
   "cell_type": "code",
   "execution_count": 87,
   "id": "2ecf29a3",
   "metadata": {},
   "outputs": [
    {
     "name": "stdout",
     "output_type": "stream",
     "text": [
      "<class 'pandas.core.frame.DataFrame'>\n",
      "Zeros before 1486126\n",
      "(5, 1682)\n",
      "(943, 5)\n",
      "Zeros after 996 235\n"
     ]
    }
   ],
   "source": [
    "ratings_cols = ['user id','movie id','rating','timestamp']\n",
    "movies_cols = ['movie id','movie title','release date','video release date','IMDb URL','unknown','Action',\n",
    "'Adventure','Animation','Childrens','Comedy','Crime',\n",
    "'Documentary','Drama','Fantasy','Film-Noir','Horror',\n",
    "'Musical','Mystery','Romance','Sci-Fi','Thriller',\n",
    "'War' ,'Western']\n",
    "users_cols = ['user id ','age','gender','occupation','zip code']\n",
    "\n",
    "users = pd.read_csv('ml-100k/u.user', sep ='|', names = users_cols , encoding ='latin-1')\n",
    "movies = pd.read_csv('ml-100k/u.item', sep='|', names = movies_cols , encoding ='latin-1')\n",
    "ratings = pd.read_csv('ml-100k/u.data', sep ='\\t', names = ratings_cols , encoding ='latin-1')\n",
    "# peek at the dataframes , if you like :)\n",
    "users.head()\n",
    "movies.head()\n",
    "ratings.head()\n",
    "print(type(movies))\n",
    "\n",
    "fill_value = 0\n",
    "rat_df = ratings.pivot(index = 'user id', columns ='movie id', values = 'rating').fillna(fill_value)\n",
    "rat_df.head()\n",
    "\n",
    "print(\"Zeros before\", len(np.where(rat_df.to_numpy() == 0)[0]))\n",
    "\n",
    "H, Z = non_negative(rat_df.to_numpy(), 5)\n",
    "\n",
    "print(\"Zeros after\", len(np.where(H == 0)[0]), len(np.where(Z == 0)[0]))\n",
    "\n",
    "reconstruction = pd.DataFrame(Z @ H, columns = rat_df.columns)\n",
    "\n",
    "\n",
    "# print(reconstruction)\n",
    "# print(np.argmax(reconstruction[10]))\n",
    "# print(np.max(reconstruction[10]))\n",
    "# print(movies.loc[movies['movie id'] == np.argmax(reconstruction[10])])\n",
    "# print(np.transpose(np.argwhere(reconstruction[10] > 1.5))[0])\n",
    "#print(ratings.loc[ratings['user id'] == 10].loc[ratings[\"movie id\"].isin(np.transpose(np.argwhere(reconstruction[10] > 1.5))[0])])"
   ]
  },
  {
   "cell_type": "markdown",
   "id": "e8ad9723",
   "metadata": {},
   "source": [
    "<div style=\"color: green; font-weight: bold\">Seems like a fine solution. You could have also used the top N rated movies instead of the movies above a threshold. You could have also investigated the latent dimensions to see if they coincide with genres.</div>"
   ]
  },
  {
   "cell_type": "code",
   "execution_count": 86,
   "id": "60c0192d",
   "metadata": {},
   "outputs": [
    {
     "name": "stdout",
     "output_type": "stream",
     "text": [
      "     movie id                       movie title release date   \n",
      "88         89               Blade Runner (1982)  01-Jan-1982  \\\n",
      "472       473  James and the Giant Peach (1996)  12-Apr-1996   \n",
      "\n",
      "     video release date                                           IMDb URL   \n",
      "88                  NaN  http://us.imdb.com/M/title-exact?Blade%20Runne...  \\\n",
      "472                 NaN  http://us.imdb.com/M/title-exact?James%20and%2...   \n",
      "\n",
      "     unknown  Action  Adventure  Animation  Childrens  ...  Fantasy   \n",
      "88         0       0          0          0          0  ...        0  \\\n",
      "472        0       0          0          1          1  ...        0   \n",
      "\n",
      "     Film-Noir  Horror  Musical  Mystery  Romance  Sci-Fi  Thriller  War   \n",
      "88           1       0        0        0        0       1         0    0  \\\n",
      "472          0       0        1        0        0       0         0    0   \n",
      "\n",
      "     Western  \n",
      "88         0  \n",
      "472        0  \n",
      "\n",
      "[2 rows x 24 columns]\n"
     ]
    }
   ],
   "source": [
    "def recommend_movies(reconstruction, user_id, movies, ratings):\n",
    "    #we took all the movies that have a rating over 2 and removed the movies that have already been rated\n",
    "    return movies.loc[movies['movie id'].isin(np.transpose(np.argwhere(reconstruction[10] > 2))[0]) & ~movies['movie id'].isin(ratings.loc[ratings['user id'] == 10].loc[ratings[\"movie id\"].isin(np.transpose(np.argwhere(reconstruction[10] > 1.5))[0])])]\n",
    "    \n",
    "predictions = recommend_movies(reconstruction, 30, movies, ratings)\n",
    "print(predictions)"
   ]
  },
  {
   "cell_type": "code",
   "execution_count": null,
   "id": "984fea3b",
   "metadata": {},
   "outputs": [],
   "source": []
  },
  {
   "cell_type": "code",
   "execution_count": null,
   "id": "c8448ca7",
   "metadata": {},
   "outputs": [],
   "source": []
  }
 ],
 "metadata": {
  "kernelspec": {
   "display_name": "Python 3 (ipykernel)",
   "language": "python",
   "name": "python3"
  },
  "language_info": {
   "codemirror_mode": {
    "name": "ipython",
    "version": 3
   },
   "file_extension": ".py",
   "mimetype": "text/x-python",
   "name": "python",
   "nbconvert_exporter": "python",
   "pygments_lexer": "ipython3",
   "version": "3.10.6"
  }
 },
 "nbformat": 4,
 "nbformat_minor": 5
}
