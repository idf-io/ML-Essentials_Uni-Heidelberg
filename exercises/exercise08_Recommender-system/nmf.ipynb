{
 "cells": [
  {
   "cell_type": "code",
   "execution_count": 65,
   "outputs": [],
   "source": [
    "import numpy as np\n",
    "\n",
    "import matplotlib\n",
    "import pandas as pd\n",
    "import sklearn\n",
    "from sklearn.datasets import load_digits\n",
    "from sklearn.decomposition import NMF\n",
    "import matplotlib.pyplot as plt\n",
    "from scipy.stats import multivariate_normal, norm\n",
    "\n",
    "np.random.seed(13)\n",
    "\n",
    "\n",
    "def pprint(x, x_name):\n",
    "    if len(x.shape) > 1:\n",
    "        print(f\"{x_name} =\\n{x}\")\n",
    "    else:\n",
    "        print(f\"{x_name} = {x}\")"
   ],
   "metadata": {
    "collapsed": false,
    "ExecuteTime": {
     "start_time": "2023-07-25T02:13:20.914859Z",
     "end_time": "2023-07-25T02:13:20.974790Z"
    }
   }
  },
  {
   "cell_type": "markdown",
   "source": [
    "# 1. Non-negative matrix factorization"
   ],
   "metadata": {
    "collapsed": false
   }
  },
  {
   "cell_type": "markdown",
   "source": [
    "## 1.1 Implementation"
   ],
   "metadata": {
    "collapsed": false
   }
  },
  {
   "cell_type": "code",
   "execution_count": 12,
   "outputs": [
    {
     "name": "stdout",
     "output_type": "stream",
     "text": [
      "dict_keys(['data', 'target', 'frame', 'feature_names', 'target_names', 'images', 'DESCR'])\n"
     ]
    }
   ],
   "source": [
    "digits = load_digits()\n",
    "print(digits.keys())"
   ],
   "metadata": {
    "collapsed": false,
    "ExecuteTime": {
     "start_time": "2023-07-25T00:55:50.269697Z",
     "end_time": "2023-07-25T00:55:50.342715Z"
    }
   }
  },
  {
   "cell_type": "code",
   "execution_count": 13,
   "outputs": [],
   "source": [
    "data = np.array(digits[\"data\"])\n",
    "images = np.array(digits[\"images\"])\n",
    "target = np.array(digits[\"target\"])\n",
    "target_names = digits[\"target_names\"]"
   ],
   "metadata": {
    "collapsed": false,
    "ExecuteTime": {
     "start_time": "2023-07-25T00:55:51.343271Z",
     "end_time": "2023-07-25T00:55:51.354053Z"
    }
   }
  },
  {
   "cell_type": "code",
   "execution_count": 28,
   "outputs": [
    {
     "name": "stdout",
     "output_type": "stream",
     "text": [
      "data =\n",
      "[[ 0.  0.  5. ...  0.  0.  0.]\n",
      " [ 0.  0.  0. ... 10.  0.  0.]\n",
      " [ 0.  0.  0. ... 16.  9.  0.]\n",
      " ...\n",
      " [ 0.  0.  1. ...  6.  0.  0.]\n",
      " [ 0.  0.  2. ... 12.  0.  0.]\n",
      " [ 0.  0. 10. ... 12.  1.  0.]]\n",
      "data.shape (1797, 64)\n",
      "float64\n"
     ]
    }
   ],
   "source": [
    "pprint(data, \"data\")\n",
    "print(\"data.shape\", data.shape)"
   ],
   "metadata": {
    "collapsed": false,
    "ExecuteTime": {
     "start_time": "2023-07-25T01:04:23.265038Z",
     "end_time": "2023-07-25T01:04:23.313468Z"
    }
   }
  },
  {
   "cell_type": "code",
   "execution_count": 31,
   "outputs": [
    {
     "name": "stdout",
     "output_type": "stream",
     "text": [
      "<class 'numpy.ndarray'>\n",
      "target.shape (1797,)\n",
      "target.unique =\n",
      " [[  0 178]\n",
      " [  1 182]\n",
      " [  2 177]\n",
      " [  3 183]\n",
      " [  4 181]\n",
      " [  5 182]\n",
      " [  6 181]\n",
      " [  7 179]\n",
      " [  8 174]\n",
      " [  9 180]]\n"
     ]
    }
   ],
   "source": [
    "print(\"target.shape\", target.shape)\n",
    "print(\"target.unique =\\n\", np.stack(np.unique(target, return_counts=True), axis=1))"
   ],
   "metadata": {
    "collapsed": false,
    "ExecuteTime": {
     "start_time": "2023-07-25T01:06:57.373879Z",
     "end_time": "2023-07-25T01:06:57.425668Z"
    }
   }
  },
  {
   "cell_type": "markdown",
   "source": [
    "### Seems balanced"
   ],
   "metadata": {
    "collapsed": false
   }
  },
  {
   "cell_type": "code",
   "execution_count": 83,
   "outputs": [],
   "source": [
    "def update_H(X, Z_t, H_t):\n",
    "\n",
    "    num = Z_t.T @ X\n",
    "    denom = (Z_t.T @ Z_t @ H_t)\n",
    "    denom = np.clip(denom, a_min=np.nextafter(0, 1), a_max=np.max(denom))\n",
    "\n",
    "    H_t1 = np.multiply(H_t, (num / denom))\n",
    "\n",
    "    return H_t1\n",
    "\n",
    "\n",
    "def update_Z(X, Z_t, H_t1):\n",
    "\n",
    "    num = X @ H_t1.T\n",
    "    denom = (Z_t @ H_t1 @ H_t1.T)\n",
    "    denom = np.clip(denom, a_min=np.nextafter(0,1), a_max=np.max(denom))\n",
    "\n",
    "    Z_t1 = np.multiply(Z_t, (num / denom))\n",
    "\n",
    "    return Z_t1\n",
    "\n",
    "\n",
    "def non_negative(data, num_components):\n",
    "    \"\"\"\n",
    "    Perform non-negative matrix factorization (nmf) on `data`.\n",
    "    X ≈ Z x H while X,X,H > 0\n",
    "\n",
    "    :param numpy.ndarray data: Input matrix to apply the mf on.\n",
    "    :param int num_components: Number of components or features the common dimension will have.\n",
    "    :return: Z and H --> Two matrices, nmf whose multiplication results approximately in the original data matrix.\n",
    "    \"\"\"\n",
    "    X = data\n",
    "\n",
    "    N, D = data.shape\n",
    "    M = num_components\n",
    "\n",
    "    # Initialize Ht and Zt as H_0 and Z_0\n",
    "    Z = np.abs(np.random.randn(N, M))\n",
    "    H = np.abs(np.random.randn(M, D))\n",
    "\n",
    "    for t in range(1000):\n",
    "\n",
    "        Z = update_Z(X, Z, H)\n",
    "        H = update_H(X, Z, H)\n",
    "\n",
    "    return Z, H\n",
    "\n",
    "\n",
    "def loss(X, Z, H):\n",
    "    \"\"\"\n",
    "    Frobenius norm\n",
    "    \"\"\"\n",
    "\n",
    "    return np.sum((X - Z @ H)**2)"
   ],
   "metadata": {
    "collapsed": false,
    "ExecuteTime": {
     "start_time": "2023-07-25T02:21:53.843309Z",
     "end_time": "2023-07-25T02:21:53.853622Z"
    }
   }
  },
  {
   "cell_type": "code",
   "execution_count": 84,
   "outputs": [
    {
     "data": {
      "text/plain": "743992.2279455089"
     },
     "execution_count": 84,
     "metadata": {},
     "output_type": "execute_result"
    }
   ],
   "source": [
    "Z, H = non_negative(data, num_components=10)"
   ],
   "metadata": {
    "collapsed": false,
    "ExecuteTime": {
     "start_time": "2023-07-25T02:22:20.215269Z",
     "end_time": "2023-07-25T02:22:20.479177Z"
    }
   }
  },
  {
   "cell_type": "code",
   "execution_count": 81,
   "outputs": [],
   "source": [
    "model = NMF(n_components=10, init=\"random\", max_iter=1000, random_state=13)\n",
    "Z_skl = model.fit_transform(data)\n",
    "H_skl = model.components_"
   ],
   "metadata": {
    "collapsed": false,
    "ExecuteTime": {
     "start_time": "2023-07-25T02:17:16.063137Z",
     "end_time": "2023-07-25T02:17:16.149361Z"
    }
   }
  },
  {
   "cell_type": "markdown",
   "source": [
    "## 1.2 Recommender system"
   ],
   "metadata": {
    "collapsed": false
   }
  },
  {
   "cell_type": "code",
   "execution_count": null,
   "outputs": [],
   "source": [],
   "metadata": {
    "collapsed": false
   }
  }
 ],
 "metadata": {
  "kernelspec": {
   "display_name": "Python 3",
   "language": "python",
   "name": "python3"
  },
  "language_info": {
   "codemirror_mode": {
    "name": "ipython",
    "version": 2
   },
   "file_extension": ".py",
   "mimetype": "text/x-python",
   "name": "python",
   "nbconvert_exporter": "python",
   "pygments_lexer": "ipython2",
   "version": "2.7.6"
  }
 },
 "nbformat": 4,
 "nbformat_minor": 0
}
