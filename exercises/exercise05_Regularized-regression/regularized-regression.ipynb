{
 "cells": [
  {
   "cell_type": "markdown",
   "id": "2f2006c5-13fa-483c-8c1a-92f2777f4ce5",
   "metadata": {},
   "source": [
    "# Exercise 5"
   ]
  },
  {
   "cell_type": "markdown",
   "id": "870d82fc-6b92-44b7-a21d-afd3ee3fd3ce",
   "metadata": {},
   "source": [
    "## 1 Bias and variance of ridge regression"
   ]
  },
  {
   "cell_type": "markdown",
   "id": "0f23121b-0eff-4db3-8daa-693897b72fc6",
   "metadata": {},
   "source": []
  },
  {
   "cell_type": "markdown",
   "id": "ff77a1db-23a1-4a89-ad7c-0ef841331064",
   "metadata": {},
   "source": [
    "## 2 LDA-Derivation from Least Squares Error"
   ]
  },
  {
   "cell_type": "markdown",
   "id": "b8b50a52-1a0c-4f06-9c8c-2cbacc8ea56d",
   "metadata": {},
   "source": [
    "## 3 Automatic feature selection for LDA as regression"
   ]
  },
  {
   "cell_type": "markdown",
   "id": "ef24c2f1-accd-4130-9676-15313041e6b2",
   "metadata": {},
   "source": [
    "## 3.1 Implement Orthagonal Matching Pursuit"
   ]
  },
  {
   "cell_type": "markdown",
   "id": "bb9fe2b4-07ec-4ba6-b4eb-3fdb6f80387d",
   "metadata": {},
   "source": [
    "## 3.2 Classification with sparse LDA"
   ]
  }
 ],
 "metadata": {
  "kernelspec": {
   "display_name": "Python 3 (ipykernel)",
   "language": "python",
   "name": "python3"
  },
  "language_info": {
   "codemirror_mode": {
    "name": "ipython",
    "version": 3
   },
   "file_extension": ".py",
   "mimetype": "text/x-python",
   "name": "python",
   "nbconvert_exporter": "python",
   "pygments_lexer": "ipython3",
   "version": "3.11.3"
  }
 },
 "nbformat": 4,
 "nbformat_minor": 5
}
