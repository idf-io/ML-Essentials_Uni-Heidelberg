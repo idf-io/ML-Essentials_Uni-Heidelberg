{
 "cells": [
  {
   "cell_type": "markdown",
   "metadata": {},
   "source": [
    "# Exercise 5"
   ]
  },
  {
   "cell_type": "markdown",
   "metadata": {},
   "source": [
    "## 1 Bias and variance of ridge regression"
   ]
  },
  {
   "cell_type": "markdown",
   "metadata": {},
   "source": [
    "* True model: y = Xβ* + ε\n",
    "\n",
    "* Zero-mean Gaussian noise: ε ~ N(0, σ^2)\n",
    "\n",
    "* Centered features assumption: (1/N) * Σ Xi = 0\n",
    "\n",
    "* Regularization parameter: τ ≥ 0\n",
    "\n",
    "Prove that the expectation E[βτ] and covariance Cov[βτ] of the regularized solution βτ are given by:\n",
    "        \n",
    "        E[βτ] = (Sτ)⁻¹S β∗\n",
    "        Cov[βτ] = (Sτ)⁻¹S (Sτ)⁻¹σ^2\n",
    " "
   ]
  },
  {
   "cell_type": "markdown",
   "metadata": {},
   "source": [
    "**Step 1: Use the SVD of X:**\n",
    "\n",
    "X = UΣVᵀ (where U and V are orthogonal matrices, Uᵀ = U⁻¹)\n",
    "\n",
    "**Step 2: Compute S and Sτ:**\n",
    "\n",
    "S = XᵀX = (UΣVᵀ)ᵀ(UΣVᵀ) = VΣᵀΣVᵀ\n",
    "\n",
    "Sτ = XᵀX + τI = VΣᵀΣVᵀ + τI\n",
    "\n",
    "**Step 3: Compute E[βτ]:**\n",
    "\n",
    "βτ = argminβ (y - Xβ)ᵀ(y - Xβ) + τβᵀβ\n",
    "\n",
    "= (yᵀ - βᵀXᵀ)(y - Xβ) + τβᵀβ\n",
    "\n",
    "= yᵀy - yᵀXβ - βᵀXᵀy + βᵀXᵀXβ + τβᵀβ\n",
    "\n",
    "To compute E[βτ], we can take the derivative of the function with respect to β and set it to zero:\n",
    "\n",
    "0 = -Xᵀy + XᵀXβ + τβ\n",
    "\n",
    "Xᵀy = XᵀXβ + τβ = β(XᵀX + τ)\n",
    "\n",
    "β = (XᵀX + τI)⁻¹Xᵀy\n",
    "\n",
    "E[βτ] = E[(XᵀX + τI)⁻¹Xᵀy] = (XᵀX + τI)⁻¹XᵀE[y]\n",
    "\n",
    "Since we assumed that the noise ε is zero-mean, E[y] = Xβ*\n",
    "\n",
    "E[βτ] = (XᵀX + τI)⁻¹XᵀXβ*\n",
    "\n",
    "E[βτ] = (S + τI)⁻¹XᵀXβ*\n",
    "\n",
    "Finally, since S = XᵀX and Sτ = XᵀX + τI, we have:\n",
    "\n",
    "E[βτ] = (Sτ)⁻¹Sβ*\n",
    "\n",
    "**Step 4: Compute Cov[βτ]:**\n",
    "\n",
    "Cov[βτ] = Cov[(XᵀX + τI)⁻¹Xᵀy]\n",
    "\n",
    "= (XᵀX + τI)⁻¹XᵀCov[y](XᵀX + τI)⁻¹\n",
    "\n",
    "Since we assumed that the noise ε is zero-mean, Cov[y] = σ^2I:\n",
    "\n",
    "Cov[βτ] = (XᵀX + τI)⁻¹Xᵀ(σ^2I)(XᵀX + τI)⁻¹\n",
    "\n",
    "= (XᵀX + τI)⁻¹Xᵀσ^2I(XᵀX + τI)⁻¹\n",
    "\n",
    "= σ^2(XᵀX + τI)⁻¹Xᵀ(XᵀX + τI)⁻¹\n",
    "\n",
    "Finally, since S = XᵀX and Sτ = XᵀX + τI, we have:\n",
    "\n",
    "Cov[βτ] = σ^2(Sτ)⁻¹Xᵀ(Sτ)⁻¹"
   ]
  },
  {
   "cell_type": "markdown",
   "metadata": {},
   "source": [
    "## 2 LDA-Derivation from Least Squares Error"
   ]
  },
  {
   "cell_type": "markdown",
   "metadata": {},
   "source": [
    "## 3 Automatic feature selection for LDA as regression"
   ]
  },
  {
   "cell_type": "markdown",
   "metadata": {},
   "source": [
    "## 3.1 Implement Orthagonal Matching Pursuit"
   ]
  },
  {
   "cell_type": "code",
   "execution_count": 1,
   "metadata": {},
   "outputs": [],
   "source": [
    "import numpy as np\n",
    "import matplotlib.pyplot as plt\n",
    "%matplotlib inline\n",
    "import sklearn\n",
    "from sklearn.datasets import load_digits\n",
    "from sklearn import model_selection\n",
    "from sklearn.model_selection import train_test_split, cross_val_score\n",
    "from sklearn.discriminant_analysis import LinearDiscriminantAnalysis"
   ]
  },
  {
   "cell_type": "code",
   "execution_count": 2,
   "metadata": {},
   "outputs": [
    {
     "name": "stdout",
     "output_type": "stream",
     "text": [
      "data.shape = (1797, 64)\n",
      "data.dtype = float64\n",
      "images.shape = (1797, 8, 8)\n",
      "images.dtype= float64\n",
      "target.shape = (1797,)\n",
      "target.dtype = int32\n",
      "target_names.shape = (10,)\n",
      "target_names.dtype= int32\n",
      "target[:20] = [0 1 2 3 4 5 6 7 8 9 0 1 2 3 4 5 6 7 8 9]\n"
     ]
    }
   ],
   "source": [
    "# load digits data set\n",
    "digits = load_digits()\n",
    "data = digits[\"data\"]\n",
    "images = digits[\"images\"]\n",
    "target = digits[\"target\"]\n",
    "target_names = digits[\"target_names\"]\n",
    "print(f\"data.shape = {data.shape}\")\n",
    "print(f\"data.dtype = {data.dtype}\")\n",
    "print(f\"images.shape = {images.shape}\")\n",
    "print(f\"images.dtype= {images.dtype}\")\n",
    "print(f\"target.shape = {target.shape}\")\n",
    "print(f\"target.dtype = {target.dtype}\")\n",
    "print(f\"target_names.shape = {target_names.shape}\")\n",
    "print(f\"target_names.dtype= {target_names.dtype}\")\n",
    "print(f\"target[:20] = {target[:20]}\")"
   ]
  },
  {
   "cell_type": "code",
   "execution_count": 32,
   "metadata": {},
   "outputs": [],
   "source": [
    "def omp_regression(X,y,T):\n",
    "    #X:[N,D]\n",
    "    #y:[N]\n",
    "    #T>0\n",
    "    \n",
    "    y.reshape(len(y), 1)\n",
    "    \n",
    "    A=[]\n",
    "    #B= [j for j in range(X.shape[1])]#np.zeros(X.shape[1]) #[1,2,.....,D]\n",
    "    r=y #y\n",
    "    \n",
    "    theta=np.zeros(X.shape[1])\n",
    "    X_list = []\n",
    "    \n",
    "    \n",
    "    for t in range(1,T+1):\n",
    "        j=np.argmax(np.abs(np.dot(X.T,r)),axis=0)#column\n",
    "        \n",
    "        A.append(j)\n",
    "        #A.sort()\n",
    "        \n",
    "        #B.remove(j)\n",
    "        \n",
    "        #X_active=X.take(j-1,axis=0)\n",
    "        X_active = X[:,A]\n",
    "        \n",
    "        #if len(A)==1:\n",
    "        #    beta=np.zeros(1)\n",
    "        #else:\n",
    "        beta=np.linalg.inv(X_active.T.dot(X_active)).dot(X_active.T).dot(y)\n",
    "        \n",
    "        theta[A]=beta\n",
    "        \n",
    "        r=y-np.dot(X,theta)\n",
    "        \n",
    "        error= np.linalg.norm(r)\n",
    "        print(t,\": error\",error)\n",
    "        \n",
    "    print(beta.shape)\n",
    "    return r"
   ]
  },
  {
   "cell_type": "markdown",
   "metadata": {},
   "source": [
    "## 3.2 Classification with sparse LDA"
   ]
  },
  {
   "cell_type": "code",
   "execution_count": 4,
   "metadata": {},
   "outputs": [
    {
     "name": "stdout",
     "output_type": "stream",
     "text": [
      "X_train.shape = (217, 64)\n",
      "X_test.shape = (146, 64)\n",
      "y_train.shape = (217,)\n",
      "y_test.shape = (146,)\n",
      "y_test[:10] = [ 1  1  1 -1 -1  1 -1  1 -1  1]\n"
     ]
    }
   ],
   "source": [
    "\"\"\"\n",
    "This function filters the digits (3, 9) from the dataset and randomly splits it in train and test set.\n",
    "\"\"\"\n",
    "# Load data\n",
    "digits = load_digits()\n",
    "data = digits[\"data\"]\n",
    "target = digits[\"target\"]\n",
    "# Data filering \n",
    "num_1, num_2 = 3, 9\n",
    "mask = np.logical_or(target == num_1, target == num_2)\n",
    "data = data[mask]/data.max()\n",
    "target = target[mask]\n",
    "# Relabel targets\n",
    "target[target == num_1] = -1\n",
    "target[target == num_2] = 1\n",
    "# split into train and test data\n",
    "X_all = data\n",
    "y_all = target\n",
    "X_train, X_test, y_train, y_test = model_selection.train_test_split(\n",
    " X_all, y_all, test_size=0.4 , random_state=0)\n",
    "print(f\"X_train.shape = {X_train.shape}\")\n",
    "print(f\"X_test.shape = {X_test.shape}\")\n",
    "print(f\"y_train.shape = {y_train.shape}\")\n",
    "print(f\"y_test.shape = {y_test.shape}\")\n",
    "print(f\"y_test[:10] = {y_test[:10]}\")"
   ]
  },
  {
   "cell_type": "code",
   "execution_count": 33,
   "metadata": {},
   "outputs": [
    {
     "name": "stdout",
     "output_type": "stream",
     "text": [
      "1 : error 13.315009890048637\n",
      "2 : error 9.071445029525995\n",
      "3 : error 7.680538712586313\n",
      "4 : error 7.296486079091541\n",
      "5 : error 6.954311899197579\n",
      "6 : error 6.537792147169524\n",
      "7 : error 6.328508719076106\n",
      "8 : error 6.003608135989588\n",
      "9 : error 5.746248907097857\n",
      "10 : error 5.575198926811804\n",
      "11 : error 5.387370266570813\n",
      "12 : error 5.16774279081024\n",
      "13 : error 5.079951648602172\n",
      "14 : error 5.038192593411319\n",
      "15 : error 4.9458185372673995\n",
      "16 : error 4.884330365024108\n",
      "17 : error 4.803529510116022\n",
      "18 : error 4.772507273508386\n",
      "19 : error 4.742549750913815\n",
      "20 : error 4.597034394498034\n",
      "21 : error 4.569790570358204\n",
      "22 : error 4.506768100187714\n",
      "23 : error 4.46820131060768\n",
      "24 : error 4.429403356920796\n",
      "25 : error 4.4164768517712405\n",
      "26 : error 4.393591323048129\n",
      "27 : error 4.371254541997926\n",
      "28 : error 4.343868921475703\n",
      "29 : error 4.3377456086967054\n",
      "30 : error 4.323478587774914\n",
      "31 : error 4.3046725989667936\n",
      "32 : error 4.290884302994312\n",
      "33 : error 4.284523610546172\n",
      "34 : error 4.275759217863128\n",
      "35 : error 4.272102669687626\n",
      "36 : error 4.266422781749244\n",
      "37 : error 4.262008331528888\n",
      "38 : error 4.259519943126872\n",
      "39 : error 4.255521766474417\n",
      "40 : error 4.231475805979105\n",
      "41 : error 4.197575832577246\n",
      "42 : error 4.195378414916768\n",
      "43 : error 4.192960072079249\n",
      "44 : error 4.1923869299241305\n",
      "45 : error 4.19060580376083\n",
      "46 : error 4.189872842512177\n",
      "47 : error 4.183953009906731\n",
      "48 : error 4.170605781207\n",
      "49 : error 4.155357581172648\n",
      "50 : error 4.148141662237074\n",
      "(50,)\n"
     ]
    }
   ],
   "source": [
    "beta=omp_regression(X_train,y_train,50)"
   ]
  },
  {
   "cell_type": "markdown",
   "metadata": {},
   "source": [
    "# How many pixels should be used for acceptable error rates?\n",
    "at least 15 pixels\n",
    "# Is it necessary/benecial to standardize the data before training and testing?\n",
    "yes"
   ]
  }
 ],
 "metadata": {
  "kernelspec": {
   "display_name": "Python 3",
   "language": "python",
   "name": "python3"
  },
  "language_info": {
   "codemirror_mode": {
    "name": "ipython",
    "version": 3
   },
   "file_extension": ".py",
   "mimetype": "text/x-python",
   "name": "python",
   "nbconvert_exporter": "python",
   "pygments_lexer": "ipython3",
   "version": "3.7.0"
  }
 },
 "nbformat": 4,
 "nbformat_minor": 5
}
