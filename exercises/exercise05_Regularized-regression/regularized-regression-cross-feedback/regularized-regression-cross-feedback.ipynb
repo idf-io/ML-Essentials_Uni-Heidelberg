{
 "cells": [
  {
   "cell_type": "markdown",
   "metadata": {},
   "source": [
    "# Exercise 5 "
   ]
  },
  {
   "cell_type": "markdown",
   "metadata": {},
   "source": [
    "Group members: Anh Tu Duong Nguyen, Chaitanya Sampara, Max Tiedl"
   ]
  },
  {
   "cell_type": "code",
   "execution_count": 1,
   "metadata": {},
   "outputs": [],
   "source": [
    "import numpy as np\n",
    "import matplotlib.pyplot as plt\n",
    "%matplotlib inline\n",
    "import sklearn\n",
    "from sklearn.datasets import load_digits\n",
    "from sklearn import model_selection\n",
    "from sklearn.model_selection import train_test_split, cross_val_score\n",
    "from sklearn.discriminant_analysis import LinearDiscriminantAnalysis"
   ]
  },
  {
   "cell_type": "markdown",
   "metadata": {},
   "source": [
    "# 5.3.1 Define function omp_regression(X, y, T)"
   ]
  },
  {
   "cell_type": "markdown",
   "metadata": {},
   "source": [
    "The function takes in a (N, D) matrix X, a (N,) matrix y and a number T > 0 (number of desired nonzero elements in the final solution). This function should return a (D, T) matrix."
   ]
  },
  {
   "cell_type": "markdown",
   "metadata": {},
   "source": [
    "<div style=\"color: green; font-weight:bold\">You basiclly implement the omp_regression function.But the formula you used to calculate the beta is not correct.You miss the X_t and the transpose of X_t.In addition, if you want to improve the speed, you can use numpy.argmax function instead of a loop function.</div>"
   ]
  },
  {
   "cell_type": "code",
   "execution_count": 2,
   "metadata": {},
   "outputs": [],
   "source": [
    "def omp_regression(X, y, T):\n",
    "    a = []\n",
    "    b = list(range(X.shape[1]))\n",
    "    r = np.copy(y)\n",
    "    X_t = np.zeros(X.shape)\n",
    "    betas = []\n",
    "    for i in range(T):\n",
    "        \n",
    "        j_t = -1\n",
    "        max_v = -1\n",
    "        for j in b:\n",
    "            v = np.abs(np.dot(X.T[j], r))\n",
    "            if v > max_v:\n",
    "                max_v = v\n",
    "                j_t = j\n",
    "                \n",
    "        a.append(j_t)\n",
    "        b.remove(j_t)\n",
    "        X_t[:, j_t] = X[:, j_t]\n",
    "        beta = np.dot(np.linalg.pinv(X_t), y)\n",
    "        betas.append(beta)\n",
    "        r = y - np.dot(X_t, beta)\n",
    "    return np.array(betas)"
   ]
  },
  {
   "cell_type": "markdown",
   "metadata": {},
   "source": [
    "# 5.3.2 Compute test error for sparse LDA classification"
   ]
  },
  {
   "cell_type": "markdown",
   "metadata": {},
   "source": [
    "<div style=\"color: green; font-weight:bold\">You implement the error rate function and visulize the curve of error rate as in sample! But you forgot to answer the question\"how many pixels should be used\" and visualize the image of digits.You can visualize that via heatmap.</div>"
   ]
  },
  {
   "cell_type": "markdown",
   "metadata": {},
   "source": [
    "Using the **digits** dataset from ex. 1, we should compute the test error for our implemented algorithm"
   ]
  },
  {
   "cell_type": "code",
   "execution_count": 3,
   "metadata": {},
   "outputs": [],
   "source": [
    "digits = load_digits()"
   ]
  },
  {
   "cell_type": "code",
   "execution_count": 4,
   "metadata": {},
   "outputs": [],
   "source": [
    "data = digits [ \"data\" ]\n",
    "images = digits [ \"images\" ]\n",
    "target = digits [ \"target\" ]\n",
    "target_names = digits [ \"target_names\"]"
   ]
  },
  {
   "cell_type": "markdown",
   "metadata": {},
   "source": [
    "This part was taken from the sample solution of exercise sheet 1"
   ]
  },
  {
   "cell_type": "code",
   "execution_count": 5,
   "metadata": {},
   "outputs": [],
   "source": [
    "# Data filering\n",
    "num_1, num_2 = 3, 9\n",
    "mask = np.logical_or(target == num_1, target == num_2)\n",
    "data = data[mask]/data.max()\n",
    "target = target[mask]\n",
    "# Relabel targets\n",
    "target[target == num_1] = -1\n",
    "target[target == num_2] = 1\n",
    "# split into train and test data\n",
    "X_all = data\n",
    "y_all = target\n",
    "X_train, X_test, y_train, y_test = model_selection.train_test_split(\n",
    "X_all, y_all, test_size=0.4 , random_state=0)"
   ]
  },
  {
   "cell_type": "code",
   "execution_count": 6,
   "metadata": {},
   "outputs": [
    {
     "data": {
      "image/png": "[encoded data removed]",
      "text/plain": [
       "<Figure size 640x480 with 1 Axes>"
      ]
     },
     "metadata": {},
     "output_type": "display_data"
    }
   ],
   "source": [
    "solution = omp_regression(X_train, y_train, 64)\n",
    "error_rates = np.zeros(len(solution))\n",
    "for i, beta in enumerate(solution):\n",
    "    y_pred = np.dot(X_test, beta) \n",
    "    y_pred[y_pred >= 0] = 1\n",
    "    y_pred[y_pred < 0] = -1\n",
    "    \n",
    "    errors = np.sum(y_pred != y_test)\n",
    "    error_rate = errors / len(y_test)\n",
    "    \n",
    "    error_rates[i] = error_rate\n",
    "\n",
    "plt.plot(error_rates)\n",
    "plt.xlabel(\"T\")\n",
    "plt.ylabel(\"Error rate\")\n",
    "plt.show()"
   ]
  },
  {
   "cell_type": "markdown",
   "metadata": {},
   "source": []
  }
 ],
 "metadata": {
  "kernelspec": {
   "display_name": "Python 3",
   "language": "python",
   "name": "python3"
  },
  "language_info": {
   "codemirror_mode": {
    "name": "ipython",
    "version": 3
   },
   "file_extension": ".py",
   "mimetype": "text/x-python",
   "name": "python",
   "nbconvert_exporter": "python",
   "pygments_lexer": "ipython3",
   "version": "3.7.0"
  }
 },
 "nbformat": 4,
 "nbformat_minor": 5
}
