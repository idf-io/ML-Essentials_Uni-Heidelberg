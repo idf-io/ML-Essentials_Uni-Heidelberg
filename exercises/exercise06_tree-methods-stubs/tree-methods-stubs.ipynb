{
 "cells": [
  {
   "cell_type": "code",
   "execution_count": 16,
   "metadata": {},
   "outputs": [],
   "source": [
    "# import modules\n",
    "import numpy as np\n",
    "from sklearn.datasets import load_digits\n",
    "from abc import abstractmethod"
   ]
  },
  {
   "cell_type": "markdown",
   "metadata": {},
   "source": [
    "# Base Classes"
   ]
  },
  {
   "cell_type": "code",
   "execution_count": 17,
   "metadata": {
    "tags": []
   },
   "outputs": [],
   "source": [
    "class Node:\n",
    "    '''\n",
    "      this class will later get the following attributes\n",
    "      all nodes:\n",
    "          features\n",
    "          responses\n",
    "      split nodes additionally:\n",
    "          left\n",
    "          right\n",
    "          split_index\n",
    "          threshold\n",
    "      leaf nodes additionally\n",
    "          prediction\n",
    "    '''\n",
    "        \n",
    "\n",
    "class Tree:\n",
    "    '''\n",
    "      base class for RegressionTree and ClassificationTree\n",
    "    '''\n",
    "    def __init__(self, n_min=10):\n",
    "        '''n_min: minimum required number of instances in leaf nodes\n",
    "        '''\n",
    "        self.n_min = n_min \n",
    "    \n",
    "    def predict(self, x):\n",
    "        ''' return the prediction for the given 1-D feature vector x\n",
    "        '''\n",
    "        # first find the leaf containing the 1-D feature vector x\n",
    "        node = self.root\n",
    "        while not hasattr(node, \"prediction\"):\n",
    "            j = node.split_index\n",
    "            if x[j] <= node.threshold:\n",
    "                node = node.left\n",
    "            else:\n",
    "                node = node.right\n",
    "        # finally, return the leaf's prediction\n",
    "        return node.prediction\n",
    "        \n",
    "    def train(self, features, responses, D_try=None):\n",
    "        '''\n",
    "        features: the feature matrix of the training set\n",
    "        response: the vector of responses\n",
    "        '''\n",
    "        N, D = features.shape\n",
    "        assert(responses.shape[0] == N)\n",
    "\n",
    "        if D_try is None:\n",
    "            D_try = int(np.sqrt(D)) # number of features to consider for each split decision\n",
    "        \n",
    "        # initialize the root node\n",
    "        self.root = Node()\n",
    "        self.root.features  = features\n",
    "        self.root.responses = responses\n",
    "\n",
    "        # build the tree\n",
    "        stack = [self.root]\n",
    "        while len(stack):\n",
    "            node = stack.pop()\n",
    "            active_indices = self.select_active_indices(D, D_try)\n",
    "            left, right = self.make_split_node(node, active_indices)\n",
    "            if left is None: # no split found\n",
    "                self.make_leaf_node(node)\n",
    "            else:\n",
    "                stack.append(left)\n",
    "                stack.append(right)\n",
    "    \n",
    "    def make_split_node(self, node, indices):\n",
    "        '''\n",
    "        node: the node to be split\n",
    "        indices: a numpy array of length 'D_try', containing the feature \n",
    "                         indices to be considered for the present split\n",
    "                         \n",
    "        return: None, None -- if no suitable split has been found, or\n",
    "                left, right -- the children of the split\n",
    "        '''\n",
    "        # all responses equal => no improvement possible by any split\n",
    "        if np.unique(node.responses).shape[0] == 1:\n",
    "            return None, None\n",
    "        \n",
    "        # find best feature j_min (among 'indices') and best threshold t_min for the split\n",
    "        l_min = float('inf')  # upper bound for the loss, later the loss of the best split\n",
    "        j_min, t_min = None, None\n",
    "\n",
    "        for j in indices:\n",
    "            thresholds = self.find_thresholds(node, j)\n",
    "\n",
    "            # compute loss for each threshold\n",
    "            for t in thresholds:\n",
    "                loss = self.compute_loss_for_split(node, j, t)\n",
    "\n",
    "                # remember the best split so far \n",
    "                # (the condition is never True when loss = float('inf') )\n",
    "                if loss < l_min:\n",
    "                    l_min = loss\n",
    "                    j_min = j\n",
    "                    t_min = t\n",
    "\n",
    "        if j_min is None: # no split found\n",
    "            return None, None\n",
    "\n",
    "        # create children for the best split\n",
    "        left, right = self.make_children(node, j_min, t_min)\n",
    "\n",
    "        # turn the current 'node' into a split node\n",
    "        # (store children and split condition)\n",
    "        node.left=left\n",
    "        node.right=right\n",
    "        node.split_index=j_min\n",
    "        node.threshold=t_min # your code here\n",
    "        #raise NotImplementedError(\"make_split_node(): remove this exception after adding your code above.\")\n",
    "        \n",
    "        # return the children (to be placed on the stack)\n",
    "        return left, right\n",
    "    \n",
    "    def select_active_indices(self, D, D_try):\n",
    "        ''' return a 1-D array with D_try randomly selected indices from 0...(D-1).\n",
    "        '''\n",
    "        return np.random.choice(D,D_try,replace=False)\n",
    "        #raise NotImplementedError(\"select_active_indices(): remove this exception after adding your code above.\")\n",
    "        \n",
    "    def find_thresholds(self, node, j):\n",
    "        ''' return: a 1-D array with all possible thresholds along feature j\n",
    "        '''\n",
    "        dj = np.sort(np.unique(node.features[:,j])) \n",
    "        # compute candidate thresholds in the middle between consecutive feature values\n",
    "        tj = (dj[1:] + dj[:-1]) / 2\n",
    "        \n",
    "        for i, threshold in enumerate(tj):\n",
    "            mask = node.features[:, j] <= threshold\n",
    "            if(len(node.features[mask]) < 10 or len(node.features[~mask]) < 10):\n",
    "                np.delete(tj, i)\n",
    "        \n",
    "        return tj\n",
    "    \n",
    "        raise NotImplementedError(\"find_thresholds(): remove this exception after adding your code above.\")\n",
    "        \n",
    "    def make_children(self, node, j, t):\n",
    "        ''' execute the split in feature j at threshold t\n",
    "        \n",
    "            return: left, right -- the children of the split, with features and responses\n",
    "                                   properly assigned according to the split\n",
    "        '''\n",
    "        left = Node()\n",
    "        right = Node()\n",
    "\n",
    "        # initialize 'left' and 'right' with the data subsets  \n",
    "        # according to the optimal split found above\n",
    "        left.features = node.features[node.features[:,j] <= t, :]\n",
    "        right.features = node.features[node.features[:,j] > t, :]\n",
    "        left.responses = node.responses[node.features[:,j] <= t]\n",
    "        right.responses = node.responses[node.features[:,j] > t]\n",
    "\n",
    "       \n",
    "        #raise NotImplementedError(\"make_children(): remove this exception after adding your code above.\")\n",
    "        \n",
    "        return left, right\n",
    "        \n",
    "    @abstractmethod\n",
    "    def make_leaf_node(self, node):\n",
    "        ''' Turn node into a leaf by computing and setting `node.prediction`\n",
    "        \n",
    "            (must be implemented in a subclass)\n",
    "        '''\n",
    "        raise NotImplementedError(\"make_leaf_node() must be implemented in a subclass.\")\n",
    "        \n",
    "    @abstractmethod\n",
    "    def compute_loss_for_split(self, node, j, t):\n",
    "        ''' Return the resulting loss when the data are split along feature j at threshold t.\n",
    "            If the split is not admissible, return float('inf').\n",
    "        \n",
    "            (must be implemented in a subclass)\n",
    "        '''\n",
    "        raise NotImplementedError(\"compute_loss_for_split() must be implemented in a subclass.\")\n"
   ]
  },
  {
   "cell_type": "markdown",
   "metadata": {},
   "source": [
    "# Regression Tree"
   ]
  },
  {
   "cell_type": "code",
   "execution_count": 18,
   "metadata": {},
   "outputs": [],
   "source": [
    "class RegressionTree(Tree):\n",
    "    def __init__(self, n_min=10):\n",
    "        super(RegressionTree, self).__init__(n_min)\n",
    "        \n",
    "    def compute_loss_for_split(self, node, j, t):\n",
    "        # return the loss if we would split the instance along feature j at threshold t\n",
    "        # or float('inf') if there is no feasible split\n",
    "        #square loss\n",
    "        left_indices = np.where(node.features[:, j] <= t)[0]\n",
    "        right_indices = np.where(node.features[:, j] > t)[0]\n",
    "        if len(left_indices) == 0 or len(right_indices) == 0:\n",
    "            return float('inf')\n",
    "        \n",
    "        left_y=np.mean(node.responses[left_indices])\n",
    "        right_y=np.mean(node.responses[right_indices])\n",
    "        \n",
    "        #print(node.features[node.features[:,j] <= t, :])\n",
    "        #print(left_y)\n",
    "        #print(right_y)\n",
    "        \n",
    "        loss_left=np.sum((node.responses[left_indices]-left_y)**2)\n",
    "        loss_right=np.sum((node.responses[right_indices]-right_y)**2)\n",
    "        \n",
    "        #print(loss_left)\n",
    "        return loss_left+loss_right\n",
    "    \n",
    "        #raise NotImplementedError(\"compute_loss_for_split(): remove this exception after adding your code above.\")\n",
    "        \n",
    "    def make_leaf_node(self, node):\n",
    "        # turn node into a leaf node by computing `node.prediction`\n",
    "        # (note: the prediction of a regression tree is a real number)\n",
    "        node.prediction = node.responses[0] # your code here\n",
    "        #raise NotImplementedError(\"make_leaf_node(): remove this exception after adding your code above.\")\n"
   ]
  },
  {
   "cell_type": "markdown",
   "metadata": {},
   "source": [
    "# Classification Tree"
   ]
  },
  {
   "cell_type": "code",
   "execution_count": 19,
   "metadata": {
    "tags": []
   },
   "outputs": [],
   "source": [
    "class ClassificationTree(Tree):\n",
    "    '''implement classification tree so that it can handle arbitrary many classes\n",
    "    '''\n",
    "    \n",
    "    def __init__(self, classes, n_min=10):\n",
    "        ''' classes: a 1-D array with the permitted class labels\n",
    "            n_min: minimum required number of instances in leaf nodes\n",
    "        '''\n",
    "        super(ClassificationTree, self).__init__(n_min)\n",
    "        self.classes = classes\n",
    "        \n",
    "    def compute_loss_for_split(self, node, j, t):\n",
    "        # return the loss if we would split the instance along feature j at threshold t\n",
    "        # or float('inf') if there is no feasible split\n",
    "        #gini loss\n",
    "        left_indices = np.where(node.features[:, j] <= t)[0]\n",
    "        right_indices = np.where(node.features[:, j] > t)[0]\n",
    "        if len(left_indices) == 0 or len(right_indices) == 0:\n",
    "            return float('inf')\n",
    "        \n",
    "        left_label=node.responses[left_indices]\n",
    "        right_label=node.responses[right_indices]\n",
    "        #print(node.responses.shape)\n",
    "        #print(left_label.shape)\n",
    "        #print(\"-----------\")\n",
    "        k_left=np.bincount(left_label,minlength=len(self.classes))\n",
    "        k_right=np.bincount(right_label,minlength=len(self.classes))\n",
    "        \n",
    "        \n",
    "        loss_left=len(left_indices)*(1-np.sum((k_left/np.sum(k_left))**2))\n",
    "        loss_right=len(right_indices)*(1-np.sum((k_right/np.sum(k_right))**2))\n",
    "        #print(loss_left+loss_right)\n",
    "        return loss_left+loss_right\n",
    "    \n",
    "        #raise NotImplementedError(\"compute_loss_for_split(): remove this exception after adding your code above.\")\n",
    "        \n",
    "    def make_leaf_node(self, node):\n",
    "        # turn node into a leaf node by computing `node.prediction`\n",
    "        # (note: the prediction of a classification tree is a class label)\n",
    "        node.prediction =node.responses[0] # your code here\n",
    "        #raise NotImplementedError(\"make_leaf_node(): remove this exception after adding your code above.\")\n",
    "        "
   ]
  },
  {
   "cell_type": "markdown",
   "metadata": {},
   "source": [
    "# Evaluation of Regression and Classification Tree"
   ]
  },
  {
   "cell_type": "code",
   "execution_count": 20,
   "metadata": {
    "tags": []
   },
   "outputs": [
    {
     "name": "stdout",
     "output_type": "stream",
     "text": [
      "(1797, 64) (1797,)\n"
     ]
    }
   ],
   "source": [
    "# read and prepare the digits data and extract 3s and 9s\n",
    "digits = load_digits()\n",
    "print(digits.data.shape, digits.target.shape)\n",
    "\n",
    "instances = (digits.target == 3) | (digits.target == 9)\n",
    "features = digits.data[instances, :]\n",
    "labels = digits.target[instances]\n",
    "\n",
    "# for regression, we use labels +1 and -1\n",
    "responses = np.array([1 if l == 3 else -1 for l in labels])\n",
    "\n",
    "assert(features.shape[0] == labels.shape[0] == responses.shape[0])"
   ]
  },
  {
   "cell_type": "code",
   "execution_count": 21,
   "metadata": {
    "tags": []
   },
   "outputs": [
    {
     "name": "stdout",
     "output_type": "stream",
     "text": [
      "Mean Error Rate with Cross Validation: 0.487633 +/- 0.014630\n"
     ]
    }
   ],
   "source": [
    "# perform 5-fold cross-validation (see ex01) with responses +1 and -1 (for 3s and 9s)\n",
    "# using RegressionTree()\n",
    "# and comment on your results\n",
    "... # your code here\n",
    "n_min = 10\n",
    "\n",
    "from sklearn.model_selection import KFold\n",
    "\n",
    "num_sample=5\n",
    "     \n",
    "#Measure the correct accuracy with cross validation\n",
    "# Splits\n",
    "k_folds = KFold(n_splits=num_sample)\n",
    "mean_rate = np.zeros(num_sample)\n",
    "for i, (train, test) in enumerate(k_folds.split(features)):\n",
    "    \n",
    "    x_train, x_test = features[train], features[test]\n",
    "    # train \n",
    "    RT = RegressionTree(n_min)\n",
    "    RT.train(x_train,responses[train])\n",
    "    predicted_labels = np.array([RT.predict(x) for x in np.nditer(x_test, flags =  ['external_loop'], order =  'C') ])\n",
    "    mean_rate[i] = np.mean(predicted_labels != responses[test])\n",
    "\n",
    "print(\"Mean Error Rate with Cross Validation: %f +/- %f\"%(np.mean(mean_rate), np.std(mean_rate)))"
   ]
  },
  {
   "cell_type": "code",
   "execution_count": 22,
   "metadata": {},
   "outputs": [
    {
     "name": "stdout",
     "output_type": "stream",
     "text": [
      "Mean Error Rate with Cross Validation: 0.487633 +/- 0.014630\n"
     ]
    }
   ],
   "source": [
    "# perform 5-fold cross-validation with labels 3 and 9\n",
    "# using ClassificationTree(classes=np.unique(labels))\n",
    "# and comment on your results\n",
    "... # your code here\n",
    "n_min = 10\n",
    "\n",
    "from sklearn.model_selection import KFold\n",
    "\n",
    "num_sample=5\n",
    "     \n",
    "#Measure the correct accuracy with cross validation\n",
    "# Splits\n",
    "k_folds = KFold(n_splits=num_sample)\n",
    "mean_rate = np.zeros(num_sample)\n",
    "for i, (train, test) in enumerate(k_folds.split(features)):\n",
    "    \n",
    "    x_train, x_test = features[train], features[test]\n",
    "    # train \n",
    "    CT = ClassificationTree(np.unique(labels),n_min)\n",
    "    CT.train(x_train,labels[train])\n",
    "    predicted_labels = np.array([CT.predict(x) for x in np.nditer(x_test, flags =  ['external_loop'], order =  'C') ])\n",
    "    mean_rate[i] = np.mean(predicted_labels != labels[test])\n",
    "\n",
    "print(\"Mean Error Rate with Cross Validation: %f +/- %f\"%(np.mean(mean_rate), np.std(mean_rate)))"
   ]
  },
  {
   "cell_type": "markdown",
   "metadata": {},
   "source": [
    "# Regression and Classification Forest"
   ]
  },
  {
   "cell_type": "code",
   "execution_count": 23,
   "metadata": {},
   "outputs": [],
   "source": [
    "def bootstrap_sampling(features, responses):\n",
    "    '''return a bootstrap sample of features and responses\n",
    "    '''\n",
    "    N = features.shape[0]\n",
    "    \n",
    "    indices = np.random.choice(N, N, replace=True)\n",
    "    bootstrap_features = features[indices]\n",
    "    bootstrap_responses = responses[indices] # your code here\n",
    "    return bootstrap_features,bootstrap_responses\n",
    "    #raise NotImplementedError(\"bootstrap_sampling(): remove this exception after adding your code above.\")"
   ]
  },
  {
   "cell_type": "code",
   "execution_count": 24,
   "metadata": {
    "tags": []
   },
   "outputs": [],
   "source": [
    "class RegressionForest():\n",
    "    def __init__(self, n_trees, n_min=10):\n",
    "        # create ensemble\n",
    "        self.trees = [RegressionTree(n_min) for i in range(n_trees)]\n",
    "    \n",
    "    def train(self, features, responses):\n",
    "        for tree in self.trees:\n",
    "            boostrap_features, bootstrap_responses = bootstrap_sampling(features, responses)\n",
    "            tree.train(boostrap_features, bootstrap_responses)\n",
    "\n",
    "    def predict(self, x):\n",
    "        # compute the response of the ensemble from the individual responses and return it\n",
    "        return np.mean([tree.predict(x) for tree in self.trees]) # your code here\n",
    "        #raise NotImplementedError(\"predict(): remove this exception after adding your code above.\")"
   ]
  },
  {
   "cell_type": "code",
   "execution_count": 25,
   "metadata": {
    "tags": []
   },
   "outputs": [],
   "source": [
    "class ClassificationForest():\n",
    "    def __init__(self, n_trees, classes, n_min=1):\n",
    "        self.trees = [ClassificationTree(classes, n_min) for i in range(n_trees)]\n",
    "        self.classes = classes\n",
    "    \n",
    "    def train(self, features, labels):\n",
    "        for tree in self.trees:\n",
    "            boostrap_features, bootstrap_responses = bootstrap_sampling(features, labels)\n",
    "            tree.train(boostrap_features, bootstrap_responses)\n",
    "\n",
    "    def predict(self, x):\n",
    "        # compute the response of the ensemble from the individual responses and return it\n",
    "        #predictions = [tree.predict(x) for tree in self.trees] \n",
    "        #return np.argmax(np.bincount(predictions, minlength=len(self.classes)))\n",
    "        return np.mean([tree.predict(x) for tree in self.trees], axis=0) \n",
    "        # your code here\n",
    "        #raise NotImplementedError(\"predict(): remove this exception after adding your code above.\")"
   ]
  },
  {
   "cell_type": "markdown",
   "metadata": {},
   "source": [
    "# Evaluation of Regression and Decision Forest"
   ]
  },
  {
   "cell_type": "code",
   "execution_count": 26,
   "metadata": {
    "tags": []
   },
   "outputs": [
    {
     "name": "stdout",
     "output_type": "stream",
     "text": [
      "Mean Error Rate with Cross Validation: 1.000000 +/- 0.000000\n"
     ]
    }
   ],
   "source": [
    "# perform 5-fold cross-validation (see ex01) with responses +1 and -1 (for 3s and 9s)\n",
    "# using RegressionForest(n_trees=10)\n",
    "# and comment on your results\n",
    "... # your code here\n",
    "n_trees=10\n",
    "\n",
    "from sklearn.model_selection import KFold\n",
    "\n",
    "num_sample=5\n",
    "     \n",
    "#Measure the correct accuracy with cross validation\n",
    "# Splits\n",
    "k_folds = KFold(n_splits=num_sample)\n",
    "mean_rate = np.zeros(num_sample)\n",
    "for i, (train, test) in enumerate(k_folds.split(features)):\n",
    "    \n",
    "    x_train, x_test = features[train], features[test]\n",
    "    # train \n",
    "    # training generative classifier with DensityForests\n",
    "    RF = RegressionForest(n_trees)\n",
    "    RF.train(x_train,responses[train])\n",
    "    predicted_labels = np.array([RF.predict(x) for x in np.nditer(x_test, flags =  ['external_loop'], order =  'C') ])\n",
    "    mean_rate[i] = np.mean(predicted_labels != responses[test])\n",
    "\n",
    "print(\"Mean Error Rate with Cross Validation: %f +/- %f\"%(np.mean(mean_rate), np.std(mean_rate)))\n",
    "\n"
   ]
  },
  {
   "cell_type": "code",
   "execution_count": 27,
   "metadata": {},
   "outputs": [
    {
     "name": "stdout",
     "output_type": "stream",
     "text": [
      "Mean Error Rate with Cross Validation: 0.794521 +/- 0.251995\n"
     ]
    }
   ],
   "source": [
    "# perform 5-fold cross-validation with labels 3 and 9\n",
    "# using DecisionForest(n_trees=10, classes=np.unique(labels))\n",
    "# and comment on your results\n",
    "n_min = 10\n",
    "\n",
    "from sklearn.model_selection import KFold\n",
    "\n",
    "num_sample=5\n",
    "     \n",
    "#Measure the correct accuracy with cross validation\n",
    "# Splits\n",
    "k_folds = KFold(n_splits=num_sample)\n",
    "mean_rate = np.zeros(num_sample)\n",
    "for i, (train, test) in enumerate(k_folds.split(features)):\n",
    "    \n",
    "    x_train, x_test = features[train], features[test]\n",
    "    # train \n",
    "    CF = ClassificationForest(n_trees=10, classes=np.unique(labels))\n",
    "    CF.train(x_train,labels[train])\n",
    "    predicted_labels = np.array([CF.predict(x) for x in np.nditer(x_test, flags =  ['external_loop'], order =  'C') ])\n",
    "    mean_rate[i] = np.mean(predicted_labels != labels[test])\n",
    "\n",
    "print(\"Mean Error Rate with Cross Validation: %f +/- %f\"%(np.mean(mean_rate), np.std(mean_rate)))\n"
   ]
  },
  {
   "cell_type": "markdown",
   "metadata": {},
   "source": [
    "# Multi-class Classification Forest"
   ]
  },
  {
   "cell_type": "code",
   "execution_count": 28,
   "metadata": {},
   "outputs": [
    {
     "data": {
      "text/plain": [
       "Ellipsis"
      ]
     },
     "execution_count": 28,
     "metadata": {},
     "output_type": "execute_result"
    }
   ],
   "source": [
    "# Train DecisionForest(n_trees=10, classes=np.unique(digits.target))\n",
    "# for all 10 digits simultaneously.\n",
    "# Compute and plot the confusion matrix after 5-fold cross-validation and comment on your results.\n",
    "... # your code here"
   ]
  },
  {
   "cell_type": "code",
   "execution_count": 34,
   "metadata": {
    "tags": []
   },
   "outputs": [],
   "source": [
    "from scipy.stats import mode\n",
    "from sklearn.metrics import confusion_matrix\n",
    "\n",
    "class ClassificationTree(Tree):\n",
    "    '''implement classification tree so that it can handle arbitrary many classes\n",
    "    '''\n",
    "\n",
    "    def __init__(self, classes, n_min=10):\n",
    "        ''' classes: a 1-D array with the permitted class labels\n",
    "            n_min: minimum required number of instances in leaf nodes\n",
    "        '''\n",
    "        super(ClassificationTree, self).__init__(n_min)\n",
    "        self.classes = classes\n",
    "\n",
    "    def compute_loss_for_split(self, node, j, t):\n",
    "        # return the loss if we would split the instance along feature j at threshold t\n",
    "        # or float('inf') if there is no feasible split\n",
    "        # gini loss\n",
    "        left_indices = np.where(node.features[:, j] <= t)[0]\n",
    "        right_indices = np.where(node.features[:, j] > t)[0]\n",
    "        if len(left_indices) == 0 or len(right_indices) == 0:\n",
    "            return float('inf')\n",
    "\n",
    "        left_label = node.responses[left_indices]\n",
    "        right_label = node.responses[right_indices]\n",
    "\n",
    "        k_left = np.bincount(left_label, minlength=len(self.classes))\n",
    "        k_right = np.bincount(right_label, minlength=len(self.classes))\n",
    "\n",
    "        loss_left = len(left_indices) * (1 - np.sum((k_left / np.sum(k_left))**2))\n",
    "        loss_right = len(right_indices) * (1 - np.sum((k_right / np.sum(k_right))**2))\n",
    "\n",
    "        return loss_left + loss_right\n",
    "\n",
    "    def make_leaf_node(self, node):\n",
    "        # turn node into a leaf node by computing `node.prediction`\n",
    "        # (note: the prediction of a classification tree is a class label)\n",
    "        #node.prediction = np.argmax(np.bincount(node.responses))\n",
    "        node.prediction = mode(node.responses, axis = 0, keepdims=True).mode[0]\n",
    "\n",
    "class ClassificationForest():\n",
    "    def __init__(self, n_trees, classes, n_min=1):\n",
    "        self.trees = [ClassificationTree(classes, n_min) for _ in range(n_trees)]\n",
    "        self.classes = classes\n",
    "\n",
    "    def train(self, features, labels):\n",
    "        for tree in self.trees:\n",
    "            bootstrap_features, bootstrap_responses = bootstrap_sampling(features, labels)\n",
    "            tree.train(bootstrap_features, bootstrap_responses)\n",
    "\n",
    "    def predict(self, x):\n",
    "        #predictions = np.array([tree.predict(x) for tree in self.trees])\n",
    "        #return np.argmax(np.bincount(predictions, axis=0))\n",
    "        predictions = np.array([tree.predict(x) for tree in self.trees])\n",
    "        return mode(predictions, axis=0, keepdims=True).mode[0]\n",
    "\n"
   ]
  },
  {
   "cell_type": "code",
   "execution_count": 35,
   "metadata": {},
   "outputs": [],
   "source": [
    "from sklearn.model_selection import StratifiedKFold\n",
    "\n",
    "digits = load_digits()\n",
    "X = digits.data\n",
    "y = digits.target\n",
    "\n",
    "n_trees = 10\n",
    "n_splits = 5\n",
    "classes = np.unique(y)\n",
    "\n",
    "skf = StratifiedKFold(n_splits=n_splits, shuffle=True)\n",
    "\n",
    "confusion_matrix_total = np.zeros((len(classes), len(classes)))\n",
    "\n",
    "for train_index, test_index in skf.split(X, y):\n",
    "    X_train, X_test = X[train_index], X[test_index]\n",
    "    y_train, y_test = y[train_index], y[test_index]\n",
    "\n",
    "    forest = ClassificationForest(n_trees, classes)\n",
    "    forest.train(X_train, y_train)\n",
    "\n",
    "    y_pred = np.array([forest.predict(x) for x in X_test])\n",
    "    confusion_matrix_total += confusion_matrix(y_test, y_pred, labels=classes)\n",
    "\n",
    "average_confusion_matrix = confusion_matrix_total / n_splits\n",
    "\n"
   ]
  },
  {
   "cell_type": "code",
   "execution_count": 39,
   "metadata": {},
   "outputs": [
    {
     "data": {
      "image/png": "[encoded data removed]",
      "text/plain": [
       "<Figure size 800x800 with 2 Axes>"
      ]
     },
     "metadata": {},
     "output_type": "display_data"
    }
   ],
   "source": [
    "import matplotlib.pyplot as plt\n",
    "\n",
    "fig, ax = plt.subplots(figsize=(8, 8))\n",
    "im = ax.imshow(average_confusion_matrix, cmap='Greens')\n",
    "\n",
    "# Add colorbar\n",
    "cbar = ax.figure.colorbar(im, ax=ax)\n",
    "\n",
    "# Set tick labels\n",
    "ax.set_xticks(np.arange(len(classes)))\n",
    "ax.set_yticks(np.arange(len(classes)))\n",
    "ax.set_xticklabels(classes)\n",
    "ax.set_yticklabels(classes)\n",
    "\n",
    "# Rotate the tick labels and set their alignment\n",
    "plt.setp(ax.get_xticklabels(), rotation=45, ha=\"right\",\n",
    "         rotation_mode=\"anchor\")\n",
    "\n",
    "# Loop over data dimensions and create text annotations\n",
    "for i in range(len(classes)):\n",
    "    for j in range(len(classes)):\n",
    "        text = ax.text(j, i, int(average_confusion_matrix[i, j]),\n",
    "                       ha=\"center\", va=\"center\", color=\"w\")\n",
    "\n",
    "ax.set_title(\"Confusion Matrix\")\n",
    "fig.tight_layout()\n",
    "plt.show()\n"
   ]
  },
  {
   "cell_type": "markdown",
   "metadata": {},
   "source": [
    "Results: the overall performance seems to be fine since the diagonal elements of the confusion matrix represent the correct predictions of each class and the off-diagonal elements represent the misclassifications for each class.\n"
   ]
  },
  {
   "cell_type": "markdown",
   "metadata": {},
   "source": [
    "# One-against-the-rest classification with RegressionForest"
   ]
  },
  {
   "cell_type": "code",
   "execution_count": 29,
   "metadata": {},
   "outputs": [
    {
     "data": {
      "text/plain": [
       "Ellipsis"
      ]
     },
     "execution_count": 29,
     "metadata": {},
     "output_type": "execute_result"
    }
   ],
   "source": [
    "# Train ten one-against-the-rest regression forests for the 10 digits.\n",
    "# Make sure that all training sets are balanced between the current digit and the rest.\n",
    "# Assign test instances to the digit with highest score, \n",
    "# or to \"unknown\" if all scores are negative.\n",
    "# Compute and plot the confusion matrix after 5-fold cross-validation and comment on your results.\n",
    "... # your code here"
   ]
  }
 ],
 "metadata": {
  "kernelspec": {
   "display_name": "Python 3 (ipykernel)",
   "language": "python",
   "name": "python3"
  },
  "language_info": {
   "codemirror_mode": {
    "name": "ipython",
    "version": 3
   },
   "file_extension": ".py",
   "mimetype": "text/x-python",
   "name": "python",
   "nbconvert_exporter": "python",
   "pygments_lexer": "ipython3",
   "version": "3.11.3"
  }
 },
 "nbformat": 4,
 "nbformat_minor": 4
}
