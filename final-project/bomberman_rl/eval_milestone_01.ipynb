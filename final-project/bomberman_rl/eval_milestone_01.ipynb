{
 "cells": [
  {
   "cell_type": "code",
   "execution_count": 9,
   "id": "initial_id",
   "metadata": {
    "collapsed": true,
    "ExecuteTime": {
     "end_time": "2023-08-31T16:49:30.577034267Z",
     "start_time": "2023-08-31T16:49:30.532382695Z"
    }
   },
   "outputs": [],
   "source": [
    "import json\n",
    "import pandas as pd"
   ]
  },
  {
   "cell_type": "code",
   "execution_count": 10,
   "outputs": [],
   "source": [
    "# Manual settings\n",
    "file_in = \"results/eval_metrics.jsonl\"\n",
    "baseline_agent = \"peaceful_agent\""
   ],
   "metadata": {
    "collapsed": false,
    "ExecuteTime": {
     "end_time": "2023-08-31T16:49:30.577686849Z",
     "start_time": "2023-08-31T16:49:30.576582298Z"
    }
   },
   "id": "86f4b473f2a0526f"
  },
  {
   "cell_type": "code",
   "execution_count": 11,
   "outputs": [
    {
     "data": {
      "text/plain": "       match_name  invalid_moves  coins_mean  coins_std  kills_mean  \\\n0  peaceful_agent       0.367787      18.859   4.999312           0   \n\n   kills_std  suicides_mean  suicides_std  metric1  \n0          0              0             0     0.38  ",
      "text/html": "<div>\n<style scoped>\n    .dataframe tbody tr th:only-of-type {\n        vertical-align: middle;\n    }\n\n    .dataframe tbody tr th {\n        vertical-align: top;\n    }\n\n    .dataframe thead th {\n        text-align: right;\n    }\n</style>\n<table border=\"1\" class=\"dataframe\">\n  <thead>\n    <tr style=\"text-align: right;\">\n      <th></th>\n      <th>match_name</th>\n      <th>invalid_moves</th>\n      <th>coins_mean</th>\n      <th>coins_std</th>\n      <th>kills_mean</th>\n      <th>kills_std</th>\n      <th>suicides_mean</th>\n      <th>suicides_std</th>\n      <th>metric1</th>\n    </tr>\n  </thead>\n  <tbody>\n    <tr>\n      <th>0</th>\n      <td>peaceful_agent</td>\n      <td>0.367787</td>\n      <td>18.859</td>\n      <td>4.999312</td>\n      <td>0</td>\n      <td>0</td>\n      <td>0</td>\n      <td>0</td>\n      <td>0.38</td>\n    </tr>\n  </tbody>\n</table>\n</div>"
     },
     "execution_count": 11,
     "metadata": {},
     "output_type": "execute_result"
    }
   ],
   "source": [
    "df = pd.read_json(file_in, lines=True)\n",
    "# df.set_index(\"match_name\", inplace=True)\n",
    "\n",
    "# INFO\n",
    "if not baseline_agent in df.match_name.to_list():\n",
    "    print(\"!!!!!\",\n",
    "          f\"The baseline agent '{baseline_agent}' has not been found among the models\",\n",
    "          \"!!!!!\",\n",
    "          sep=\"\\n\")\n",
    "\n",
    "df"
   ],
   "metadata": {
    "collapsed": false,
    "ExecuteTime": {
     "end_time": "2023-08-31T16:49:30.578759682Z",
     "start_time": "2023-08-31T16:49:30.576924456Z"
    }
   },
   "id": "352bfb4d4366ed00"
  },
  {
   "cell_type": "code",
   "execution_count": 18,
   "outputs": [
    {
     "data": {
      "text/plain": "<AxesSubplot:xlabel='match_name'>"
     },
     "execution_count": 18,
     "metadata": {},
     "output_type": "execute_result"
    },
    {
     "data": {
      "text/plain": "<Figure size 432x288 with 1 Axes>",
      "image/png": "[encoded data removed]"
     },
     "metadata": {
      "needs_background": "light"
     },
     "output_type": "display_data"
    }
   ],
   "source": [
    "metrics = [\"metric1\", \"invalid_moves\"]\n",
    "\n",
    "df.plot(kind=\"bar\", x='match_name', y=metrics, ylim=[0,1])"
   ],
   "metadata": {
    "collapsed": false,
    "ExecuteTime": {
     "end_time": "2023-08-31T16:55:48.919875966Z",
     "start_time": "2023-08-31T16:55:48.828394021Z"
    }
   },
   "id": "24945c4c0bb109a0"
  }
 ],
 "metadata": {
  "kernelspec": {
   "display_name": "Python 3",
   "language": "python",
   "name": "python3"
  },
  "language_info": {
   "codemirror_mode": {
    "name": "ipython",
    "version": 2
   },
   "file_extension": ".py",
   "mimetype": "text/x-python",
   "name": "python",
   "nbconvert_exporter": "python",
   "pygments_lexer": "ipython2",
   "version": "2.7.6"
  }
 },
 "nbformat": 4,
 "nbformat_minor": 5
}
